{
 "cells": [
  {
   "cell_type": "markdown",
   "metadata": {
    "id": "E9ChODg2zkJV"
   },
   "source": [
    "# Библиотека NumPy\n",
    "\n",
    "\n",
    "NumPy - векторные/научные вычисления. Пакет содержит функциональные средства для работы с многомерными массивами и высокоуровневыми математическими функциями.\n",
    "\n",
    "Справочные материалы по numpy: https://pythonworld.ru/numpy"
   ]
  },
  {
   "cell_type": "code",
   "execution_count": 13,
   "metadata": {
    "id": "SkVigyK3zkJr"
   },
   "outputs": [],
   "source": [
    "import numpy as np # Подключаем библиотеку numpy и задаем ей псевдоним np"
   ]
  },
  {
   "cell_type": "markdown",
   "metadata": {
    "id": "k7o1YfhczkKR"
   },
   "source": [
    "### 1. Структура np.ndarray\n"
   ]
  },
  {
   "cell_type": "markdown",
   "metadata": {
    "id": "eyKMt5dhkmvU"
   },
   "source": [
    "\n",
    "\n",
    "np.ndarray - это массив, содержащий элементы **одного типа**. \n",
    "\n",
    "Давайте посмотрим, что это значит:"
   ]
  },
  {
   "cell_type": "code",
   "execution_count": 14,
   "metadata": {
    "colab": {
     "base_uri": "https://localhost:8080/",
     "height": 51
    },
    "id": "OsyJKygIzkKY",
    "outputId": "4946235c-c682-4768-ada5-aabdd082cdcd"
   },
   "outputs": [
    {
     "name": "stdout",
     "output_type": "stream",
     "text": [
      "[2, 4, 5]\n",
      "<class 'list'>\n"
     ]
    }
   ],
   "source": [
    "my_list1 = [2, 4, 5] # Создаем переменную my_list1 и записываем в нее список из трех значений\n",
    "print (my_list1) # Выводим на экран созданный список\n",
    "print (type(my_list1)) # Выводим на экран тип переменной my_list1"
   ]
  },
  {
   "cell_type": "code",
   "execution_count": 15,
   "metadata": {},
   "outputs": [
    {
     "name": "stdout",
     "output_type": "stream",
     "text": [
      "[2 4 5]\n",
      "<class 'numpy.ndarray'>\n",
      "int32\n"
     ]
    }
   ],
   "source": [
    "my_numpy1 = np.array(my_list1) # Создаем numpy-массив из списка my_list1\n",
    "print(my_numpy1) # Выводим на экран созданный numpy-массив\n",
    "print(type(my_numpy1)) # Выводим на экран тип переменной my_numpy1\n",
    "print(my_numpy1.dtype) # Выводим на экран тип элементов массива my_numpy1"
   ]
  },
  {
   "cell_type": "code",
   "execution_count": 16,
   "metadata": {},
   "outputs": [
    {
     "name": "stdout",
     "output_type": "stream",
     "text": [
      "float64\n"
     ]
    }
   ],
   "source": [
    "my_list2 = [2, 3.14] # Создаем переменную my_list_float и записываем в нее список из двух значений (типа int и типа float)\n",
    "my_numpy2 = np.array(my_list2) #  Создаем numpy-массив из списка my_list2\n",
    "print(my_numpy2.dtype)  # Выводим на экран тип элементов массива my_numpy2"
   ]
  },
  {
   "cell_type": "code",
   "execution_count": 17,
   "metadata": {
    "colab": {
     "base_uri": "https://localhost:8080/",
     "height": 51
    },
    "id": "WoVA6pMWL6mF",
    "outputId": "def3906a-901e-41f0-cbb3-5900b42cce83"
   },
   "outputs": [
    {
     "name": "stdout",
     "output_type": "stream",
     "text": [
      "[2, 3.14]\n",
      "[2.   3.14]\n"
     ]
    }
   ],
   "source": [
    "print(my_list2) # Выводим на экран созданный список my_list2\n",
    "print(my_numpy2) # Выводим на экран созданный массив my_numpy2"
   ]
  },
  {
   "cell_type": "code",
   "execution_count": 18,
   "metadata": {
    "colab": {
     "base_uri": "https://localhost:8080/",
     "height": 68
    },
    "id": "lT40BgvRzkLw",
    "outputId": "88cade0d-8cff-4034-db3f-7dcb674ff6d1"
   },
   "outputs": [
    {
     "name": "stdout",
     "output_type": "stream",
     "text": [
      "[2, 3.14, 'text data']\n",
      "['2' '3.14' 'text data']\n",
      "<U32\n"
     ]
    }
   ],
   "source": [
    "my_list3 = [2, 3.14, 'text data'] # Создаем переменную my_list2 и записываем в нее список из трех значений (типа int, типа float и типа str)\n",
    "my_numpy3 = np.array(my_list3) # Создаем numpy-массив из списка my_list3\n",
    "print(my_list3) # Выводим на экран созданный список my_list3\n",
    "print(my_numpy3) # Выводим на экран созданный массив my_numpy3\n",
    "print(my_numpy3.dtype) # Выводим на экран тип элементов массва my_numpy3"
   ]
  },
  {
   "cell_type": "code",
   "execution_count": 19,
   "metadata": {
    "colab": {
     "base_uri": "https://localhost:8080/",
     "height": 34
    },
    "id": "78Bj6ZqwzkMM",
    "outputId": "ce240ee2-a228-478e-cb13-276e3fec5d31"
   },
   "outputs": [
    {
     "name": "stdout",
     "output_type": "stream",
     "text": [
      "[2, 3.14, 'text data', [2, 3, 4]]\n"
     ]
    }
   ],
   "source": [
    "my_list4 = [2, 3.14, 'text data', [2,3,4]] # Создаем переменную my_list4 и записываем в нее список из четырех значений (типа int, типа float, типа str  и список)\n",
    "print(my_list4) # Выводим на экран созданный список my_list4"
   ]
  },
  {
   "cell_type": "code",
   "execution_count": 20,
   "metadata": {
    "colab": {
     "base_uri": "https://localhost:8080/",
     "height": 51
    },
    "id": "t06Ka9lwQl4I",
    "outputId": "1e6eab59-5b0f-4217-c11c-2f99dc5b79aa"
   },
   "outputs": [
    {
     "name": "stdout",
     "output_type": "stream",
     "text": [
      "[2 3.14 'text data' list([2, 3, 4])]\n",
      "object\n"
     ]
    },
    {
     "name": "stderr",
     "output_type": "stream",
     "text": [
      "C:\\Users\\hohlo\\AppData\\Local\\Temp\\ipykernel_23044\\3971614367.py:1: VisibleDeprecationWarning: Creating an ndarray from ragged nested sequences (which is a list-or-tuple of lists-or-tuples-or ndarrays with different lengths or shapes) is deprecated. If you meant to do this, you must specify 'dtype=object' when creating the ndarray.\n",
      "  my_numpy4 = np.array(my_list4) # Создаем numpy-массив из списка my_list3\n"
     ]
    }
   ],
   "source": [
    "my_numpy4 = np.array(my_list4) # Создаем numpy-массив из списка my_list3\n",
    "print(my_numpy4) # Выводим на экран созданный массив my_numpy4\n",
    "print(my_numpy4.dtype) # Выводим на экран тип элементов массива my_numpy4"
   ]
  },
  {
   "cell_type": "code",
   "execution_count": 21,
   "metadata": {
    "colab": {
     "base_uri": "https://localhost:8080/",
     "height": 51
    },
    "id": "Lfm8dLdNzkMw",
    "outputId": "c6648fb4-1da0-4b2b-8d17-74f28c6a0dbd"
   },
   "outputs": [
    {
     "name": "stdout",
     "output_type": "stream",
     "text": [
      "[2 3.14 'text data' list([2, 4, 5])]\n",
      "object\n"
     ]
    }
   ],
   "source": [
    "my_numpy5 = np.array([2, 3.14, 'text data', [2, 4, 5]], dtype='object') # Создаем numpy-массив из списка и указываем тип элементов - 'object'\n",
    "print(my_numpy5) # Выводим на экран созданный массив my_numpy5\n",
    "print(my_numpy5.dtype) # Выводим на экран тип элементов массива my_numpy5"
   ]
  },
  {
   "cell_type": "code",
   "execution_count": 22,
   "metadata": {
    "colab": {
     "base_uri": "https://localhost:8080/",
     "height": 163
    },
    "id": "qBpkCfn5NYBG",
    "outputId": "d17b5b29-9a10-41f9-e970-85eb00466b58"
   },
   "outputs": [
    {
     "ename": "ValueError",
     "evalue": "setting an array element with a sequence. The requested array has an inhomogeneous shape after 1 dimensions. The detected shape was (4,) + inhomogeneous part.",
     "output_type": "error",
     "traceback": [
      "\u001b[1;31m---------------------------------------------------------------------------\u001b[0m",
      "\u001b[1;31mValueError\u001b[0m                                Traceback (most recent call last)",
      "Cell \u001b[1;32mIn[22], line 1\u001b[0m\n\u001b[1;32m----> 1\u001b[0m my_numpy6 \u001b[38;5;241m=\u001b[39m \u001b[43mnp\u001b[49m\u001b[38;5;241;43m.\u001b[39;49m\u001b[43marray\u001b[49m\u001b[43m(\u001b[49m\u001b[43m[\u001b[49m\u001b[38;5;241;43m2\u001b[39;49m\u001b[43m,\u001b[49m\u001b[43m \u001b[49m\u001b[38;5;241;43m3.14\u001b[39;49m\u001b[43m,\u001b[49m\u001b[43m \u001b[49m\u001b[38;5;124;43m'\u001b[39;49m\u001b[38;5;124;43mtext data\u001b[39;49m\u001b[38;5;124;43m'\u001b[39;49m\u001b[43m,\u001b[49m\u001b[43m \u001b[49m\u001b[43m[\u001b[49m\u001b[38;5;241;43m2\u001b[39;49m\u001b[43m,\u001b[49m\u001b[43m \u001b[49m\u001b[38;5;241;43m4\u001b[39;49m\u001b[43m,\u001b[49m\u001b[43m \u001b[49m\u001b[38;5;241;43m5\u001b[39;49m\u001b[43m]\u001b[49m\u001b[43m]\u001b[49m\u001b[43m,\u001b[49m\u001b[43m \u001b[49m\u001b[43mdtype\u001b[49m\u001b[38;5;241;43m=\u001b[39;49m\u001b[38;5;124;43m'\u001b[39;49m\u001b[38;5;124;43mint64\u001b[39;49m\u001b[38;5;124;43m'\u001b[39;49m\u001b[43m)\u001b[49m\n",
      "\u001b[1;31mValueError\u001b[0m: setting an array element with a sequence. The requested array has an inhomogeneous shape after 1 dimensions. The detected shape was (4,) + inhomogeneous part."
     ]
    }
   ],
   "source": [
    "my_numpy6 = np.array([2, 3.14, 'text data', [2, 4, 5]], dtype='int64') # Создаем numpy-массив из списка и указываем тип элементов - 'int'"
   ]
  },
  {
   "cell_type": "code",
   "execution_count": 23,
   "metadata": {
    "colab": {
     "base_uri": "https://localhost:8080/",
     "height": 51
    },
    "id": "jVxfyT48OXvm",
    "outputId": "39ec0c30-24a3-4222-9477-92b41fb079a9"
   },
   "outputs": [
    {
     "name": "stdout",
     "output_type": "stream",
     "text": [
      "[2 3]\n",
      "int64\n"
     ]
    }
   ],
   "source": [
    "my_numpy7 = np.array([2, 3.14], dtype='int64') # Создаем numpy-массив из списка и указываем тип элементов - 'int'\n",
    "print(my_numpy7) # Выводим на экран созданный массив my_numpy5\n",
    "print(my_numpy7.dtype) # Выводим на экран тип элементов массива my_numpy5"
   ]
  },
  {
   "cell_type": "markdown",
   "metadata": {
    "id": "925upZABzkNS"
   },
   "source": [
    "### 2. Типы данных\n"
   ]
  },
  {
   "cell_type": "markdown",
   "metadata": {
    "id": "ErHSzDspkosS"
   },
   "source": [
    "В NumPy реализованы свои типы данных, которые отличаются от встроенных в Python.\n",
    "\n",
    "Подробнее о типах: https://docs.scipy.org/doc/numpy/user/basics.types.html\n",
    "\n",
    "Например, встроенный тип int ничем не ограничен (кроме вашей памяти). Целые числа в numpy имеют фиксированный размер: np.int8, np.int16...\n",
    "\n",
    "Другое различие кроется во встроенных методах:"
   ]
  },
  {
   "cell_type": "code",
   "execution_count": 24,
   "metadata": {
    "id": "rczIuSjjzkNY"
   },
   "outputs": [],
   "source": [
    "value = -167 # Создаем переменную value и записываем в нее значение\n",
    "numpy_value = np.uint8(value) # Преобразуем переменную value к типу np.uint8"
   ]
  },
  {
   "cell_type": "code",
   "execution_count": 25,
   "metadata": {
    "colab": {
     "base_uri": "https://localhost:8080/",
     "height": 34
    },
    "id": "9Ym3FrLBzkNu",
    "outputId": "40e9b210-f491-40ae-e5e8-e8c71fd4a13a"
   },
   "outputs": [
    {
     "name": "stdout",
     "output_type": "stream",
     "text": [
      "-167\n"
     ]
    }
   ],
   "source": [
    "print(value) # Выводим на экран значение переменной value"
   ]
  },
  {
   "cell_type": "code",
   "execution_count": 26,
   "metadata": {
    "colab": {
     "base_uri": "https://localhost:8080/",
     "height": 34
    },
    "id": "XnAAetu0zkPW",
    "outputId": "a88179b4-0343-42fc-b0eb-cf0f270c195b"
   },
   "outputs": [
    {
     "name": "stdout",
     "output_type": "stream",
     "text": [
      "89\n"
     ]
    }
   ],
   "source": [
    "print(numpy_value) # Выводим на экран значение переменной numpy_value"
   ]
  },
  {
   "cell_type": "code",
   "execution_count": 27,
   "metadata": {
    "colab": {
     "base_uri": "https://localhost:8080/",
     "height": 34
    },
    "id": "d3WSRnDpzkQh",
    "outputId": "395f97d5-693d-4802-f4c5-1ef164d3c9bd"
   },
   "outputs": [
    {
     "name": "stdout",
     "output_type": "stream",
     "text": [
      "<class 'int'>\n"
     ]
    }
   ],
   "source": [
    "print(type(value)) # Выводим на экран тип переменной value"
   ]
  },
  {
   "cell_type": "code",
   "execution_count": 28,
   "metadata": {
    "colab": {
     "base_uri": "https://localhost:8080/",
     "height": 34
    },
    "id": "Noboyp83zkRc",
    "outputId": "4837dc40-c108-4478-ef1a-0cb01c0376a6"
   },
   "outputs": [
    {
     "name": "stdout",
     "output_type": "stream",
     "text": [
      "<class 'numpy.uint8'>\n"
     ]
    }
   ],
   "source": [
    "print(type(numpy_value)) # Выводим на экран тип переменной numpy_value"
   ]
  },
  {
   "cell_type": "markdown",
   "metadata": {
    "id": "LrLBflWAzkTd"
   },
   "source": [
    "### 3. Одномерные массивы"
   ]
  },
  {
   "cell_type": "markdown",
   "metadata": {
    "id": "wPpt1J0hzkTq"
   },
   "source": [
    "#### Одномерные numpy массивы\n"
   ]
  },
  {
   "cell_type": "code",
   "execution_count": 29,
   "metadata": {
    "id": "V41MALm5zkT9"
   },
   "outputs": [],
   "source": [
    "numpy_digital = np.array([1, 2, 3, 4, 5]) # Создаем numpy-массив из списка цифр"
   ]
  },
  {
   "cell_type": "code",
   "execution_count": 30,
   "metadata": {
    "id": "pHidHr6bzkUw"
   },
   "outputs": [],
   "source": [
    "numpy_str = np.array(['cat', 'mouse', 'dog', 'rat']) # Создаем numpy-массив из списка слов "
   ]
  },
  {
   "cell_type": "code",
   "execution_count": 31,
   "metadata": {
    "colab": {
     "base_uri": "https://localhost:8080/",
     "height": 34
    },
    "id": "VMll2qtYzkVB",
    "outputId": "9f21be1a-9c7d-4ad0-dc38-654092c57567"
   },
   "outputs": [
    {
     "name": "stdout",
     "output_type": "stream",
     "text": [
      "int32\n"
     ]
    }
   ],
   "source": [
    "print(numpy_digital.dtype) # Выводим на экран тип элементов массива numpy_digital"
   ]
  },
  {
   "cell_type": "code",
   "execution_count": 32,
   "metadata": {
    "colab": {
     "base_uri": "https://localhost:8080/",
     "height": 34
    },
    "id": "ANIFml-azkVh",
    "outputId": "487e5e8d-886b-4c0f-d80a-e0d9d340deb6"
   },
   "outputs": [
    {
     "name": "stdout",
     "output_type": "stream",
     "text": [
      "<U5\n"
     ]
    }
   ],
   "source": [
    "print(numpy_str.dtype) # Выводим на экран тип элементов массива numpy_str"
   ]
  },
  {
   "cell_type": "code",
   "execution_count": 33,
   "metadata": {
    "colab": {
     "base_uri": "https://localhost:8080/",
     "height": 34
    },
    "id": "675X1EPPzkV8",
    "outputId": "4d31f6ba-215a-4a4e-8eb9-1d932dbd55ae"
   },
   "outputs": [
    {
     "name": "stdout",
     "output_type": "stream",
     "text": [
      "(5,)\n"
     ]
    }
   ],
   "source": [
    "print(numpy_digital.shape) # Выводим на экран размерность массива numpy_digital"
   ]
  },
  {
   "cell_type": "code",
   "execution_count": 34,
   "metadata": {
    "colab": {
     "base_uri": "https://localhost:8080/",
     "height": 34
    },
    "id": "VoT8RQ0lPXKF",
    "outputId": "98ce1d79-a068-4e7e-9265-c3f0328a99a2"
   },
   "outputs": [
    {
     "name": "stdout",
     "output_type": "stream",
     "text": [
      "(4,)\n"
     ]
    }
   ],
   "source": [
    "print(numpy_str.shape) # Выводим на экран размерность массива numpy_str"
   ]
  },
  {
   "cell_type": "code",
   "execution_count": 35,
   "metadata": {
    "colab": {
     "base_uri": "https://localhost:8080/",
     "height": 34
    },
    "id": "IjtJVWhwzkWv",
    "outputId": "4b2f000a-5711-4115-d834-d00229724313"
   },
   "outputs": [
    {
     "name": "stdout",
     "output_type": "stream",
     "text": [
      "5\n"
     ]
    }
   ],
   "source": [
    "print(numpy_digital.size) # Выводим на экран количество элементов массива numpy_digital"
   ]
  },
  {
   "cell_type": "code",
   "execution_count": 36,
   "metadata": {
    "colab": {
     "base_uri": "https://localhost:8080/",
     "height": 51
    },
    "id": "fHXfcBrrzkXb",
    "outputId": "4d3e3732-447b-4d0c-dd2f-d0517b868fd1"
   },
   "outputs": [
    {
     "name": "stdout",
     "output_type": "stream",
     "text": [
      "[1 2 3 4 5 6]\n",
      "(6,)\n"
     ]
    }
   ],
   "source": [
    "numpy_digital2 = np.array([1, 2, 3, 4, 5, 6]) # Создаем numpy-массив из списка цифр\n",
    "print(numpy_digital2) # Выводим на экран массив numpy_digital\n",
    "print(numpy_digital2.shape) # Выводим на экран размерность массива numpy_digital"
   ]
  },
  {
   "cell_type": "code",
   "execution_count": 37,
   "metadata": {
    "colab": {
     "base_uri": "https://localhost:8080/",
     "height": 102
    },
    "id": "82WeJ5kwzkYY",
    "outputId": "98dbe4f7-c5ee-40d8-acd6-555f4150eb43"
   },
   "outputs": [
    {
     "name": "stdout",
     "output_type": "stream",
     "text": [
      "[[1 2]\n",
      " [3 4]\n",
      " [5 6]]\n",
      "(3, 2)\n",
      "6\n"
     ]
    }
   ],
   "source": [
    "numpy_new = numpy_digital2.reshape((3, 2)) # Изменяем размерность массива numpy_digital2 из (6,) -> (3, 2)\n",
    "print(numpy_new) # Выводим на экран массив numpy_new\n",
    "print(numpy_new.shape) # Выводим на экран размерность массива numpy_new\n",
    "print(numpy_new.size) # Выводим на экран количество элементов массива numpy_new"
   ]
  },
  {
   "cell_type": "code",
   "execution_count": 38,
   "metadata": {
    "colab": {
     "base_uri": "https://localhost:8080/",
     "height": 85
    },
    "id": "bQ7LjBX4P2Yl",
    "outputId": "851f108f-a8b2-4047-9e7a-83fc0159a9fd"
   },
   "outputs": [
    {
     "name": "stdout",
     "output_type": "stream",
     "text": [
      "[[1 2 3]\n",
      " [4 5 6]]\n",
      "(2, 3)\n",
      "6\n"
     ]
    }
   ],
   "source": [
    "numpy_new2 = numpy_digital2.reshape((2, 3)) # Изменяем размерность массива numpy_digital2 из (6,) -> (2, 3)\n",
    "print(numpy_new2) # Выводим на экран массив numpy_new2\n",
    "print(numpy_new2.shape) # Выводим на экран размерность массива numpy_new2\n",
    "print(numpy_new2.size) # Выводим на экран количество элементов массива numpy_new2"
   ]
  },
  {
   "cell_type": "code",
   "execution_count": 39,
   "metadata": {
    "colab": {
     "base_uri": "https://localhost:8080/",
     "height": 68
    },
    "id": "igGGkBAoQA9q",
    "outputId": "c736c1ff-75d0-4162-e0c7-e43fa4a19643"
   },
   "outputs": [
    {
     "name": "stdout",
     "output_type": "stream",
     "text": [
      "[[1 2 3 4 5 6]]\n",
      "(1, 6)\n",
      "6\n"
     ]
    }
   ],
   "source": [
    "numpy_new3 = numpy_digital2.reshape((1, 6)) # Изменяем размерность массива numpy_digital2 из (6,) -> (1, 6)\n",
    "print(numpy_new3) # Выводим на экран массив numpy_new3\n",
    "print(numpy_new3.shape) # Выводим на экран размерность массива numpy_new3\n",
    "print(numpy_new3.size) # Выводим на экран количество элементов массива numpy_new3"
   ]
  },
  {
   "cell_type": "code",
   "execution_count": 40,
   "metadata": {
    "colab": {
     "base_uri": "https://localhost:8080/",
     "height": 68
    },
    "id": "Ye8UKfqfQDMs",
    "outputId": "937e08c2-6c89-4577-a676-d25fc7c0ba52"
   },
   "outputs": [
    {
     "name": "stdout",
     "output_type": "stream",
     "text": [
      "[1 2 3 4 5 6]\n",
      "(6,)\n",
      "6\n"
     ]
    }
   ],
   "source": [
    "print(numpy_digital2) # Выводим на экран массив numpy_new\n",
    "print(numpy_digital2.shape) # Выводим на экран размерность массива numpy_new\n",
    "print(numpy_digital2.size) # Выводим на экран количество элементов массива numpy_new"
   ]
  },
  {
   "cell_type": "code",
   "execution_count": 41,
   "metadata": {
    "colab": {
     "base_uri": "https://localhost:8080/",
     "height": 51
    },
    "id": "lJa5jICiYppC",
    "outputId": "1bc5984c-f4bc-4c49-f072-b80e5bff870f"
   },
   "outputs": [
    {
     "name": "stdout",
     "output_type": "stream",
     "text": [
      "[1 2 3 4 5]\n",
      "(5,)\n"
     ]
    }
   ],
   "source": [
    "print(numpy_digital) # Выводим на экран массив numpy_new\n",
    "print(numpy_digital.shape) # Выводим на экран размерность массива numpy_digital"
   ]
  },
  {
   "cell_type": "code",
   "execution_count": 42,
   "metadata": {
    "colab": {
     "base_uri": "https://localhost:8080/",
     "height": 163
    },
    "id": "JYT39VhYRKR7",
    "outputId": "0bf2843b-ac86-49d2-ace9-9bad06228fd9"
   },
   "outputs": [
    {
     "ename": "ValueError",
     "evalue": "cannot reshape array of size 5 into shape (2,3)",
     "output_type": "error",
     "traceback": [
      "\u001b[1;31m---------------------------------------------------------------------------\u001b[0m",
      "\u001b[1;31mValueError\u001b[0m                                Traceback (most recent call last)",
      "Cell \u001b[1;32mIn[42], line 1\u001b[0m\n\u001b[1;32m----> 1\u001b[0m numpy_new4 \u001b[38;5;241m=\u001b[39m \u001b[43mnumpy_digital\u001b[49m\u001b[38;5;241;43m.\u001b[39;49m\u001b[43mreshape\u001b[49m\u001b[43m(\u001b[49m\u001b[43m(\u001b[49m\u001b[38;5;241;43m2\u001b[39;49m\u001b[43m,\u001b[49m\u001b[43m \u001b[49m\u001b[38;5;241;43m3\u001b[39;49m\u001b[43m)\u001b[49m\u001b[43m)\u001b[49m\n",
      "\u001b[1;31mValueError\u001b[0m: cannot reshape array of size 5 into shape (2,3)"
     ]
    }
   ],
   "source": [
    "numpy_new4 = numpy_digital.reshape((2, 3)) # Изменяем размерность массива numpy_digital из (5,) -> (2, 3)"
   ]
  },
  {
   "cell_type": "markdown",
   "metadata": {
    "id": "NFth5t1IzkZU"
   },
   "source": [
    "#### Индексация\n",
    "\n",
    "\n"
   ]
  },
  {
   "cell_type": "code",
   "execution_count": 43,
   "metadata": {
    "colab": {
     "base_uri": "https://localhost:8080/",
     "height": 34
    },
    "id": "ZUGqIMCjzkZY",
    "outputId": "cef4514d-88ba-46bc-db15-5cf734d9e553"
   },
   "outputs": [
    {
     "name": "stdout",
     "output_type": "stream",
     "text": [
      "[102 123  33  54  25 136]\n"
     ]
    }
   ],
   "source": [
    "numpy_new5 = np.array([102,123,33,54,25,136]) # Создаем numpy-массив из списка цифр\n",
    "print(numpy_new5) # Выводим на экран массив numpy_new5"
   ]
  },
  {
   "cell_type": "code",
   "execution_count": 44,
   "metadata": {
    "colab": {
     "base_uri": "https://localhost:8080/",
     "height": 34
    },
    "id": "wvTCNtY3zkat",
    "outputId": "a9351883-cc9d-42a3-a8da-ba6e87062f34"
   },
   "outputs": [
    {
     "name": "stdout",
     "output_type": "stream",
     "text": [
      "102\n"
     ]
    }
   ],
   "source": [
    "print(numpy_new5[0]) # Выводим на экран нулевой элемент массива numpy_new5"
   ]
  },
  {
   "cell_type": "code",
   "execution_count": 45,
   "metadata": {
    "colab": {
     "base_uri": "https://localhost:8080/",
     "height": 34
    },
    "id": "PwCpYv_rzkbq",
    "outputId": "1393649d-4931-4fa9-d035-ef8fc9fb2669"
   },
   "outputs": [
    {
     "name": "stdout",
     "output_type": "stream",
     "text": [
      "123\n"
     ]
    }
   ],
   "source": [
    "print(numpy_new5[1]) # Выводим на экран первый элемент массива numpy_new5"
   ]
  },
  {
   "cell_type": "code",
   "execution_count": 46,
   "metadata": {
    "colab": {
     "base_uri": "https://localhost:8080/",
     "height": 34
    },
    "id": "v4Kk-4_3zkcR",
    "outputId": "85c35ec4-3ed5-49c9-acf4-56fd9ae10ed2"
   },
   "outputs": [
    {
     "name": "stdout",
     "output_type": "stream",
     "text": [
      "136\n"
     ]
    }
   ],
   "source": [
    "print(numpy_new5[-1]) # Выводим на экран последний (минус первый) элемент массива numpy_new5"
   ]
  },
  {
   "cell_type": "code",
   "execution_count": 47,
   "metadata": {
    "colab": {
     "base_uri": "https://localhost:8080/",
     "height": 34
    },
    "id": "MM2QzoDzzkdJ",
    "outputId": "ec288198-5304-4f0f-8d66-6985cdbef2dd"
   },
   "outputs": [
    {
     "name": "stdout",
     "output_type": "stream",
     "text": [
      "[102 123  33  54  25 136]\n"
     ]
    }
   ],
   "source": [
    "print(numpy_new5[:]) # Выводим на экран все элементы массива numpy_new5"
   ]
  },
  {
   "cell_type": "code",
   "execution_count": 48,
   "metadata": {
    "colab": {
     "base_uri": "https://localhost:8080/",
     "height": 34
    },
    "id": "TN3eR6BdYjdg",
    "outputId": "dc41bb7d-8e8c-4c95-e5b7-eb031ff112d9"
   },
   "outputs": [
    {
     "name": "stdout",
     "output_type": "stream",
     "text": [
      "[123  33  54  25 136]\n"
     ]
    }
   ],
   "source": [
    "print(numpy_new5[1:]) # Выводим на экран все элементы массива numpy_new5, начиная с первого"
   ]
  },
  {
   "cell_type": "code",
   "execution_count": 49,
   "metadata": {
    "colab": {
     "base_uri": "https://localhost:8080/",
     "height": 34
    },
    "id": "6XmBq7kmYq9l",
    "outputId": "17ae2013-0cee-48fd-e0f0-6d5b517797e2"
   },
   "outputs": [
    {
     "name": "stdout",
     "output_type": "stream",
     "text": [
      "[102 123  33]\n"
     ]
    }
   ],
   "source": [
    "print(numpy_new5[:3]) # Выводим на экран с нулевого по третий элементы массива numpy_new5"
   ]
  },
  {
   "cell_type": "code",
   "execution_count": 50,
   "metadata": {
    "colab": {
     "base_uri": "https://localhost:8080/",
     "height": 34
    },
    "id": "2cjQ4ZhEY_69",
    "outputId": "049c98a4-9d72-4b47-e221-aec004614876"
   },
   "outputs": [
    {
     "name": "stdout",
     "output_type": "stream",
     "text": [
      "[ 25 136]\n"
     ]
    }
   ],
   "source": [
    "print(numpy_new5[-2:]) # Выводим на экран все элементы массива numpy_new5, начиная с предпоследнего"
   ]
  },
  {
   "cell_type": "code",
   "execution_count": 51,
   "metadata": {
    "colab": {
     "base_uri": "https://localhost:8080/",
     "height": 34
    },
    "id": "FFpnr4Igzkd4",
    "outputId": "3b5171bf-1ed3-4abb-90af-1642530c6e96"
   },
   "outputs": [
    {
     "name": "stdout",
     "output_type": "stream",
     "text": [
      "[123  33  54]\n"
     ]
    }
   ],
   "source": [
    "print(numpy_new5[1:4]) # Выводим на экран с первого по четвертый элемент массива numpy_new5"
   ]
  },
  {
   "cell_type": "code",
   "execution_count": 52,
   "metadata": {
    "colab": {
     "base_uri": "https://localhost:8080/",
     "height": 34
    },
    "id": "CJWaNQCjv1ws",
    "outputId": "98748aea-44c9-413d-db6e-4b5d7c3fb981"
   },
   "outputs": [
    {
     "name": "stdout",
     "output_type": "stream",
     "text": [
      "[ True  True False False False  True]\n"
     ]
    }
   ],
   "source": [
    "\n",
    "print(numpy_new5 > 55) # Выводим маску массива numpy_new5 для условия: значение элемента больше 55"
   ]
  },
  {
   "cell_type": "code",
   "execution_count": 53,
   "metadata": {
    "colab": {
     "base_uri": "https://localhost:8080/",
     "height": 34
    },
    "id": "qDAzKBhdzkea",
    "outputId": "f1cfd1c4-eb4b-405c-838d-8123e4f7e047"
   },
   "outputs": [
    {
     "name": "stdout",
     "output_type": "stream",
     "text": [
      "[33 54]\n"
     ]
    }
   ],
   "source": [
    "print(numpy_new5[(numpy_new5 > 25) & (numpy_new5 < 67)]) # Производим подвыборку элементов массива, значения которых больше 25 и меньше 67"
   ]
  },
  {
   "cell_type": "code",
   "execution_count": 54,
   "metadata": {
    "colab": {
     "base_uri": "https://localhost:8080/",
     "height": 51
    },
    "id": "T-TlCpLaxFXl",
    "outputId": "882310f3-f210-4868-9d47-e479359286f0"
   },
   "outputs": [
    {
     "name": "stdout",
     "output_type": "stream",
     "text": [
      "[ 2  3 12]\n",
      "[0 1 2 3 4 5 6]\n"
     ]
    }
   ],
   "source": [
    "arr1 = np.array([2, 3, 12]) # Создаем numpy-массива из списка\n",
    "arr2 = np.array([i for i in range(7)]) # Создаем numpy-массив с помощью генератора цикла\n",
    "\n",
    "print(arr1) # Выводим массив arr1\n",
    "print(arr2) # Выводим массив arr2"
   ]
  },
  {
   "cell_type": "code",
   "execution_count": 55,
   "metadata": {
    "colab": {
     "base_uri": "https://localhost:8080/",
     "height": 34
    },
    "id": "tjVL5tgVb-zt",
    "outputId": "8ece63af-dc50-4400-b72b-8e01041f7311"
   },
   "outputs": [
    {
     "name": "stdout",
     "output_type": "stream",
     "text": [
      "[ True  True False]\n"
     ]
    }
   ],
   "source": [
    "mask = np.array([(i in arr2) for i in arr1]) # Создаем маску для массива arr1 по наличию элемента в массиве arr2\n",
    "\n",
    "print(mask) # Выводим маску "
   ]
  },
  {
   "cell_type": "code",
   "execution_count": 56,
   "metadata": {
    "colab": {
     "base_uri": "https://localhost:8080/",
     "height": 34
    },
    "id": "zgZme6FobrnD",
    "outputId": "0d776466-d462-4f21-9048-07a3c50ee1e8"
   },
   "outputs": [
    {
     "data": {
      "text/plain": [
       "array([2, 3])"
      ]
     },
     "execution_count": 56,
     "metadata": {},
     "output_type": "execute_result"
    }
   ],
   "source": [
    "arr1[mask]"
   ]
  },
  {
   "cell_type": "markdown",
   "metadata": {
    "id": "fkhgXy-3zkfF"
   },
   "source": [
    "#### Встроенные методы\n"
   ]
  },
  {
   "cell_type": "markdown",
   "metadata": {
    "id": "gV742wB-zkfJ"
   },
   "source": [
    "чтобы увидеть все доступные методы, после точки нажмите \"Tab\""
   ]
  },
  {
   "cell_type": "code",
   "execution_count": 57,
   "metadata": {
    "colab": {
     "base_uri": "https://localhost:8080/",
     "height": 34
    },
    "id": "QMGNr6JYzkfM",
    "outputId": "b9109d9e-5850-425c-8b97-49f1d9fa6333"
   },
   "outputs": [
    {
     "name": "stdout",
     "output_type": "stream",
     "text": [
      "[ 1  2  3  4  5  6  7  8  9 10]\n"
     ]
    }
   ],
   "source": [
    "numpy_array = np.array([1,2,3,4,5,6,7,8,9,10]) # Создаем numpy-массив из целых чисел\n",
    "print(numpy_array) # Выводим на экран массив numpu_array"
   ]
  },
  {
   "cell_type": "code",
   "execution_count": null,
   "metadata": {},
   "outputs": [],
   "source": []
  },
  {
   "cell_type": "code",
   "execution_count": 58,
   "metadata": {
    "colab": {
     "base_uri": "https://localhost:8080/",
     "height": 34
    },
    "id": "eH8LzxCNzkff",
    "outputId": "7b04ddef-42ab-4543-91f1-a5285363749c"
   },
   "outputs": [
    {
     "name": "stdout",
     "output_type": "stream",
     "text": [
      "55\n"
     ]
    }
   ],
   "source": [
    "print(numpy_array.sum()) # Выводим на экран сумму всех элементов массива numpy_array"
   ]
  },
  {
   "cell_type": "code",
   "execution_count": 59,
   "metadata": {
    "colab": {
     "base_uri": "https://localhost:8080/",
     "height": 34
    },
    "id": "WauQX4-wzkgY",
    "outputId": "ebce5c83-7984-44bc-b61f-1033f6cd6b3e"
   },
   "outputs": [
    {
     "name": "stdout",
     "output_type": "stream",
     "text": [
      "5.5\n"
     ]
    }
   ],
   "source": [
    "print(numpy_array.mean()) # Выводим на экран среднее значение всех элементов массива numpy_array"
   ]
  },
  {
   "cell_type": "code",
   "execution_count": 60,
   "metadata": {
    "colab": {
     "base_uri": "https://localhost:8080/",
     "height": 34
    },
    "id": "gV2WNNlczkgq",
    "outputId": "4ea5160c-38bf-4b4e-a596-2f6d39b9af73"
   },
   "outputs": [
    {
     "name": "stdout",
     "output_type": "stream",
     "text": [
      "10\n"
     ]
    }
   ],
   "source": [
    "print(numpy_array.max()) # Выводим на экран максимальный элемент массива numpy_array"
   ]
  },
  {
   "cell_type": "code",
   "execution_count": 61,
   "metadata": {
    "colab": {
     "base_uri": "https://localhost:8080/",
     "height": 34
    },
    "id": "jAEE26SozkhO",
    "outputId": "bbfc1b4f-58f9-4c3d-e48d-208e08b9bd4b"
   },
   "outputs": [
    {
     "name": "stdout",
     "output_type": "stream",
     "text": [
      "1\n"
     ]
    }
   ],
   "source": [
    "print(numpy_array.min()) # Выводим на экран минимальный элемент массива numpy_array"
   ]
  },
  {
   "cell_type": "code",
   "execution_count": 62,
   "metadata": {
    "colab": {
     "base_uri": "https://localhost:8080/",
     "height": 34
    },
    "id": "AwcpEyAXzkhc",
    "outputId": "b1327bf5-4de9-4450-9564-c06bb689e242"
   },
   "outputs": [
    {
     "name": "stdout",
     "output_type": "stream",
     "text": [
      "3628800\n"
     ]
    }
   ],
   "source": [
    "print(numpy_array.prod()) # Выводим на экран произведение всех элементов массива numpy_array"
   ]
  },
  {
   "cell_type": "code",
   "execution_count": 63,
   "metadata": {
    "colab": {
     "base_uri": "https://localhost:8080/",
     "height": 34
    },
    "id": "RC_GCKINzkhr",
    "outputId": "98472e04-eb5a-4043-ca95-a26213bb589b"
   },
   "outputs": [
    {
     "name": "stdout",
     "output_type": "stream",
     "text": [
      "['Один' 'Два' 'Три' 'Четыре']\n"
     ]
    }
   ],
   "source": [
    "str_array = np.array(['Один', 'Два','Три','Четыре']) # Создаем numpy-массив из четырех строковых значений\n",
    "print(str_array) # Выводим на экран массив str_array"
   ]
  },
  {
   "cell_type": "code",
   "execution_count": 64,
   "metadata": {
    "colab": {
     "base_uri": "https://localhost:8080/",
     "height": 34
    },
    "id": "DoVqk1yezkiD",
    "outputId": "e6d3f5de-4709-4918-ef3a-e1b5f7711b43"
   },
   "outputs": [
    {
     "name": "stdout",
     "output_type": "stream",
     "text": [
      "['Два' 'Один' 'Три' 'Четыре']\n"
     ]
    }
   ],
   "source": [
    "str_array.sort() # Сортируем массив str_array\n",
    "print(str_array) # Выводим на экран массив str_array"
   ]
  },
  {
   "cell_type": "code",
   "execution_count": 65,
   "metadata": {
    "colab": {
     "base_uri": "https://localhost:8080/",
     "height": 34
    },
    "id": "nyRmGTc6eawB",
    "outputId": "449c5aaa-b140-49e3-bc53-b17d2979e34c"
   },
   "outputs": [
    {
     "name": "stdout",
     "output_type": "stream",
     "text": [
      "[('Москва', 99) ('Пенза', 58) ('Рязань', 62)]\n"
     ]
    }
   ],
   "source": [
    "my_type = [('city', '<U32'), ('region', np.int32)] # Создадим список, где укажем тип данных будущего массива\n",
    "values = [('Москва', 99), ('Пенза', 58), ('Рязань', 62)] # Создадим список со значениями будущего массива\n",
    "regions = np.array(values, dtype=my_type) # Создаем numpy-массива из указанных значений и задаем тип данных для каждого столбца\n",
    "print(regions) # Выводим на экрам массив regions"
   ]
  },
  {
   "cell_type": "code",
   "execution_count": 66,
   "metadata": {
    "colab": {
     "base_uri": "https://localhost:8080/",
     "height": 34
    },
    "id": "b1aJOg8vf7XX",
    "outputId": "ceae172d-c77f-4579-d155-0ea778189b67"
   },
   "outputs": [
    {
     "data": {
      "text/plain": [
       "array(['Москва', 'Пенза', 'Рязань'], dtype='<U32')"
      ]
     },
     "execution_count": 66,
     "metadata": {},
     "output_type": "execute_result"
    }
   ],
   "source": [
    "regions['city'] # Обращаемся к столбцу массива по заданному имени"
   ]
  },
  {
   "cell_type": "code",
   "execution_count": 67,
   "metadata": {
    "colab": {
     "base_uri": "https://localhost:8080/",
     "height": 51
    },
    "id": "SNBTWGS2zkid",
    "outputId": "13108340-17e7-4b56-8ac7-483226d98708"
   },
   "outputs": [
    {
     "name": "stdout",
     "output_type": "stream",
     "text": [
      "1.74 µs ± 115 ns per loop (mean ± std. dev. of 7 runs, 1,000,000 loops each)\n"
     ]
    }
   ],
   "source": [
    "%%timeit\n",
    "numpy_array.sum() # Считаем сумму элементов массива numpy_array и смотрим на время выполнения операции с помощью магической команды timeit"
   ]
  },
  {
   "cell_type": "code",
   "execution_count": 68,
   "metadata": {
    "colab": {
     "base_uri": "https://localhost:8080/",
     "height": 51
    },
    "id": "P5WZP8rmzkiv",
    "outputId": "423ddc61-b469-48ed-c497-b9a148c839d3"
   },
   "outputs": [
    {
     "name": "stdout",
     "output_type": "stream",
     "text": [
      "6.53 µs ± 171 ns per loop (mean ± std. dev. of 7 runs, 100,000 loops each)\n"
     ]
    }
   ],
   "source": [
    "            \n",
    "    %%timeit\n",
    "numpy_array.mean() # Считаем среднее значение элементов массива numpy_array и смотрим на время выполнения операции с помощью магической команды timeit"
   ]
  },
  {
   "cell_type": "code",
   "execution_count": 69,
   "metadata": {
    "colab": {
     "base_uri": "https://localhost:8080/",
     "height": 51
    },
    "id": "BRZkRD8kzkjK",
    "outputId": "3877efb2-1c7f-4aa8-b4b0-3279d812c517"
   },
   "outputs": [
    {
     "name": "stdout",
     "output_type": "stream",
     "text": [
      "9.1 µs ± 393 ns per loop (mean ± std. dev. of 7 runs, 100,000 loops each)\n"
     ]
    }
   ],
   "source": [
    "%%timeit\n",
    "numpy_array.sum()\n",
    "numpy_array.mean()"
   ]
  },
  {
   "cell_type": "code",
   "execution_count": null,
   "metadata": {
    "id": "mvwPh0YjzkjW"
   },
   "outputs": [],
   "source": [
    "# Задаем параметры \n",
    "## n - кол-во циклов повторений\n",
    "## r - кол-во повторений в одном цикле"
   ]
  },
  {
   "cell_type": "code",
   "execution_count": null,
   "metadata": {
    "colab": {
     "base_uri": "https://localhost:8080/",
     "height": 51
    },
    "id": "fpol-WcAzkjg",
    "outputId": "aaac2eb1-a269-4ca1-d19a-746d929ab0f2"
   },
   "outputs": [],
   "source": [
    "%%timeit -n 5 -r 10\n",
    "numpy_array.sum()"
   ]
  },
  {
   "cell_type": "markdown",
   "metadata": {
    "id": "aeggEjNhzkj5"
   },
   "source": [
    "#### Операции с массивами\n",
    "\n"
   ]
  },
  {
   "cell_type": "code",
   "execution_count": 70,
   "metadata": {
    "colab": {
     "base_uri": "https://localhost:8080/",
     "height": 34
    },
    "id": "KTfz6S9KzkkC",
    "outputId": "937f0498-e9a4-46e3-a6b0-4007ff4fffe9"
   },
   "outputs": [
    {
     "name": "stdout",
     "output_type": "stream",
     "text": [
      "[0 1 2 3 4]\n"
     ]
    }
   ],
   "source": [
    "numpy_10 = np.arange(5) # Создаем numpy-массив из последовательности элементов от 0 до 4 (5 не включается)\n",
    "print(numpy_10) # Выводим на экран массив numpy_10"
   ]
  },
  {
   "cell_type": "code",
   "execution_count": 71,
   "metadata": {
    "colab": {
     "base_uri": "https://localhost:8080/",
     "height": 34
    },
    "id": "l5UOE6JrzkkU",
    "outputId": "0c906be6-9232-4edd-ed91-afb6e66443c7"
   },
   "outputs": [
    {
     "name": "stdout",
     "output_type": "stream",
     "text": [
      "[3 4 5]\n"
     ]
    }
   ],
   "source": [
    "numpy_11 = np.arange(3, 6) # Создаем numpy-массив из последовательности элементов от 3 до 5 (6 не включается)\n",
    "print(numpy_11) # Выводим на экран массив numpy_11"
   ]
  },
  {
   "cell_type": "code",
   "execution_count": 72,
   "metadata": {
    "colab": {
     "base_uri": "https://localhost:8080/",
     "height": 34
    },
    "id": "4bNYF87Qzkkh",
    "outputId": "7d8f20a2-2110-40a5-efe5-9b71a4fcddae"
   },
   "outputs": [
    {
     "name": "stdout",
     "output_type": "stream",
     "text": [
      "[ 3  7 11 15]\n"
     ]
    }
   ],
   "source": [
    "numpy_12 = np.arange(3, 16, 4) # Создаем numpy-массив из последовательности элементов от 3 до 15 с шагом 4\n",
    "print(numpy_12) # Выводим на экран массив numpy_12"
   ]
  },
  {
   "cell_type": "markdown",
   "metadata": {
    "id": "C9FKdEnrzklW"
   },
   "source": [
    "#### Векторные операции\n",
    "\n"
   ]
  },
  {
   "cell_type": "code",
   "execution_count": 73,
   "metadata": {
    "colab": {
     "base_uri": "https://localhost:8080/",
     "height": 51
    },
    "id": "gvl9s6jFzklY",
    "outputId": "adb7af98-c9b3-4171-b59e-ab408d1c6ffa"
   },
   "outputs": [
    {
     "name": "stdout",
     "output_type": "stream",
     "text": [
      "[0, 1, 2, 3, 4, 5, 6, 7, 8, 9, 10, 11]\n",
      "[ 6  8 10 12 14 16]\n"
     ]
    }
   ],
   "source": [
    "my_list1 = [0,1,2,3,4,5] # Создаем список из 5 элементов\n",
    "my_list2 = [6,7,8,9,10,11] # Создаем еще один список также из 5 элементов\n",
    "my_numpy1 = np.array(my_list1) # Создаем массив из списка my_list1\n",
    "my_numpy2 = np.array(my_list2) # Создаем массив из списка my_list2\n",
    "print(my_list1 + my_list2) # Выводим результат сложения двух списков\n",
    "print(my_numpy1 + my_numpy2) # Выводим результат сложения двух массивов"
   ]
  },
  {
   "cell_type": "code",
   "execution_count": 74,
   "metadata": {
    "colab": {
     "base_uri": "https://localhost:8080/",
     "height": 34
    },
    "id": "KMfJmZZ3zklk",
    "outputId": "5b0d4545-1c9f-4f72-fca0-01b801229bd5"
   },
   "outputs": [
    {
     "name": "stdout",
     "output_type": "stream",
     "text": [
      "[-6 -6 -6 -6 -6 -6]\n"
     ]
    }
   ],
   "source": [
    "print(my_numpy1 - my_numpy2) # Выводим разность двух массивов"
   ]
  },
  {
   "cell_type": "code",
   "execution_count": 75,
   "metadata": {
    "colab": {
     "base_uri": "https://localhost:8080/",
     "height": 163
    },
    "id": "RY70Vu3KOyBI",
    "outputId": "a40d2dd1-b8c2-48f2-81c4-300a5c383a9d"
   },
   "outputs": [
    {
     "ename": "TypeError",
     "evalue": "unsupported operand type(s) for -: 'list' and 'list'",
     "output_type": "error",
     "traceback": [
      "\u001b[1;31m---------------------------------------------------------------------------\u001b[0m",
      "\u001b[1;31mTypeError\u001b[0m                                 Traceback (most recent call last)",
      "Cell \u001b[1;32mIn[75], line 1\u001b[0m\n\u001b[1;32m----> 1\u001b[0m \u001b[38;5;28mprint\u001b[39m(\u001b[43mmy_list1\u001b[49m\u001b[43m \u001b[49m\u001b[38;5;241;43m-\u001b[39;49m\u001b[43m \u001b[49m\u001b[43mmy_list2\u001b[49m)\n",
      "\u001b[1;31mTypeError\u001b[0m: unsupported operand type(s) for -: 'list' and 'list'"
     ]
    }
   ],
   "source": [
    "print(my_list1 - my_list2) # Выводим рвзность двух списков"
   ]
  },
  {
   "cell_type": "code",
   "execution_count": 76,
   "metadata": {
    "colab": {
     "base_uri": "https://localhost:8080/",
     "height": 34
    },
    "id": "ti4rEgUizklw",
    "outputId": "19156da5-bb8b-44d9-f044-da7f16a0d480"
   },
   "outputs": [
    {
     "name": "stdout",
     "output_type": "stream",
     "text": [
      "[0.         0.14285714 0.25       0.33333333 0.4        0.45454545]\n"
     ]
    }
   ],
   "source": [
    "print(my_numpy1 / my_numpy2) # Выводим частное двух массивов"
   ]
  },
  {
   "cell_type": "code",
   "execution_count": 77,
   "metadata": {
    "colab": {
     "base_uri": "https://localhost:8080/",
     "height": 68
    },
    "id": "Hj_cyy5BzkmA",
    "outputId": "6103c151-44b7-4b2f-bd14-ca9ab28b4606"
   },
   "outputs": [
    {
     "name": "stdout",
     "output_type": "stream",
     "text": [
      "[inf 7.  4.  3.  2.5 2.2]\n"
     ]
    },
    {
     "name": "stderr",
     "output_type": "stream",
     "text": [
      "C:\\Users\\hohlo\\AppData\\Local\\Temp\\ipykernel_23044\\1919026743.py:3: RuntimeWarning: divide by zero encountered in divide\n",
      "  print(my_numpy2 / my_numpy1) # Выводим частное двух массивов\n"
     ]
    }
   ],
   "source": [
    "# обратите внимание, что python нормально обработал деление на ноль\n",
    "## inf - infinite value, бесконочность\n",
    "print(my_numpy2 / my_numpy1) # Выводим частное двух массивов"
   ]
  },
  {
   "cell_type": "code",
   "execution_count": 78,
   "metadata": {
    "colab": {
     "base_uri": "https://localhost:8080/",
     "height": 34
    },
    "id": "CEcKqysHzkmK",
    "outputId": "5abf0b39-156c-48db-bdca-56074b42423b"
   },
   "outputs": [
    {
     "name": "stdout",
     "output_type": "stream",
     "text": [
      "[ 0  7 16 27 40 55]\n"
     ]
    }
   ],
   "source": [
    "print(my_numpy1 * my_numpy2) # поэлементное умножение двух массивов"
   ]
  },
  {
   "cell_type": "code",
   "execution_count": 79,
   "metadata": {
    "colab": {
     "base_uri": "https://localhost:8080/",
     "height": 34
    },
    "id": "ZVWBhoSmzkmW",
    "outputId": "1fb4ba5f-bcb7-46fc-dd39-0df914e5e541"
   },
   "outputs": [
    {
     "name": "stdout",
     "output_type": "stream",
     "text": [
      "[       0        1      256    19683  1048576 48828125]\n"
     ]
    }
   ],
   "source": [
    "print(my_numpy1 ** my_numpy2) # поэлементное возведение в степень"
   ]
  },
  {
   "cell_type": "code",
   "execution_count": 80,
   "metadata": {
    "colab": {
     "base_uri": "https://localhost:8080/",
     "height": 34
    },
    "id": "Ibhvd42BzknC",
    "outputId": "2e1f82ea-327d-471b-bd08-c961948e6820"
   },
   "outputs": [
    {
     "name": "stdout",
     "output_type": "stream",
     "text": [
      "4604\n"
     ]
    }
   ],
   "source": [
    "# методы работают и без создания новой переменной, но нужны скобочки ()\n",
    "print(((my_numpy1 * my_numpy2 - my_numpy1) ** 2).sum()) # Выведем сумму элементов \"составного\" массива"
   ]
  },
  {
   "cell_type": "code",
   "execution_count": 81,
   "metadata": {
    "colab": {
     "base_uri": "https://localhost:8080/",
     "height": 34
    },
    "id": "wh71K2JC0agB",
    "outputId": "262d3dde-28d8-4970-cd0f-e92fc3cce405"
   },
   "outputs": [
    {
     "name": "stdout",
     "output_type": "stream",
     "text": [
      "[102 107 112 117 122 127]\n"
     ]
    }
   ],
   "source": [
    "print(my_numpy1 * 5 + my_numpy2[0] * 17)"
   ]
  },
  {
   "cell_type": "markdown",
   "metadata": {
    "id": "b4UmXd1Kzknu"
   },
   "source": [
    "### 4. Многомерные массивы\n"
   ]
  },
  {
   "cell_type": "markdown",
   "metadata": {
    "id": "OPJ9bIOJkrq4"
   },
   "source": [
    "2D - матрица\n",
    "\n",
    "3D, ..., nD - тензоры"
   ]
  },
  {
   "cell_type": "code",
   "execution_count": 82,
   "metadata": {
    "colab": {
     "base_uri": "https://localhost:8080/",
     "height": 68
    },
    "id": "yb_hLRcqzknz",
    "outputId": "9df4d151-ed86-4d82-8769-925e00d78ce0"
   },
   "outputs": [
    {
     "name": "stdout",
     "output_type": "stream",
     "text": [
      "[[3 6 2 7]\n",
      " [9 2 4 8]\n",
      " [8 2 3 6]]\n"
     ]
    }
   ],
   "source": [
    "# создаем двумерный массив\n",
    "my_2d_array = np.array([[3, 6, 2, 7],\n",
    "                        [9, 2, 4, 8],\n",
    "                        [8, 2, 3, 6]])\n",
    "\n",
    "print(my_2d_array)"
   ]
  },
  {
   "cell_type": "code",
   "execution_count": 83,
   "metadata": {
    "colab": {
     "base_uri": "https://localhost:8080/",
     "height": 68
    },
    "id": "2CaYMqYzPtpW",
    "outputId": "6f47b4e4-7116-4d76-8796-e6dbf350700a"
   },
   "outputs": [
    {
     "name": "stdout",
     "output_type": "stream",
     "text": [
      "[[[3 6 2 7]\n",
      "  [9 2 4 8]\n",
      "  [8 2 3 6]]]\n"
     ]
    }
   ],
   "source": [
    "# создаем трехмерный массив\n",
    "my_3d_array = np.array([[[3, 6, 2, 7],\n",
    "                        [9, 2, 4, 8],\n",
    "                        [8, 2, 3, 6]]])\n",
    "\n",
    "print(my_3d_array)"
   ]
  },
  {
   "cell_type": "code",
   "execution_count": 84,
   "metadata": {
    "colab": {
     "base_uri": "https://localhost:8080/",
     "height": 51
    },
    "id": "odlOePP6zkoK",
    "outputId": "cd8bc76a-573a-4e52-b4fd-2ff8d986e40b"
   },
   "outputs": [
    {
     "name": "stdout",
     "output_type": "stream",
     "text": [
      "(3, 4)\n",
      "(1, 3, 4)\n"
     ]
    }
   ],
   "source": [
    "print(my_2d_array.shape) # Выводим на экран размерность массива my_2d_array\n",
    "print(my_3d_array.shape) # Выводим на экран размерность массива my_3d_array"
   ]
  },
  {
   "cell_type": "code",
   "execution_count": 85,
   "metadata": {
    "colab": {
     "base_uri": "https://localhost:8080/",
     "height": 51
    },
    "id": "TukXkp9Gzkob",
    "outputId": "5f664b06-e82f-4778-c5c9-ae7f0c66c90f"
   },
   "outputs": [
    {
     "name": "stdout",
     "output_type": "stream",
     "text": [
      "12\n",
      "12\n"
     ]
    }
   ],
   "source": [
    "# кол-во элементов массива\n",
    "print(my_2d_array.size) # Выводим на экран количество элементов массива my_2d_array\n",
    "print(my_3d_array.size) # Выводим на экран количество элементов массива my_3d_array"
   ]
  },
  {
   "cell_type": "markdown",
   "metadata": {
    "id": "FnX1foWJzkoq"
   },
   "source": [
    "#### Индексация\n"
   ]
  },
  {
   "cell_type": "markdown",
   "metadata": {
    "id": "8DWjRHayzkot"
   },
   "source": [
    "построчно"
   ]
  },
  {
   "cell_type": "code",
   "execution_count": 86,
   "metadata": {
    "colab": {
     "base_uri": "https://localhost:8080/",
     "height": 68
    },
    "id": "xUcKXRAYzkov",
    "outputId": "ca10d422-de16-419b-b0bc-97ee2d08a04a"
   },
   "outputs": [
    {
     "name": "stdout",
     "output_type": "stream",
     "text": [
      "[[3 6 2 7]\n",
      " [9 2 4 8]\n",
      " [8 2 3 6]]\n"
     ]
    }
   ],
   "source": [
    "# Создадим двумерный массив\n",
    "my_2d_array2 = np.array([[3, 6, 2, 7],\n",
    "                        [9, 2, 4, 8],\n",
    "                        [8, 2, 3, 6]])\n",
    "\n",
    "print(my_2d_array2) # Выведем на экран массив my_2d_array2"
   ]
  },
  {
   "cell_type": "code",
   "execution_count": 87,
   "metadata": {
    "colab": {
     "base_uri": "https://localhost:8080/",
     "height": 34
    },
    "id": "53IoMFztzkpF",
    "outputId": "7558682f-6492-42d8-e057-f4a07e3b9ffa"
   },
   "outputs": [
    {
     "name": "stdout",
     "output_type": "stream",
     "text": [
      "[3 6 2 7]\n"
     ]
    }
   ],
   "source": [
    "print(my_2d_array2[0]) # Выведем на экран нулевую строку"
   ]
  },
  {
   "cell_type": "code",
   "execution_count": 88,
   "metadata": {
    "colab": {
     "base_uri": "https://localhost:8080/",
     "height": 51
    },
    "id": "H1P2iNEhzkpQ",
    "outputId": "2705ac08-252b-49eb-9f48-5e295d23ff4c"
   },
   "outputs": [
    {
     "name": "stdout",
     "output_type": "stream",
     "text": [
      "[9 2 4 8]\n",
      "[8 2 3 6]\n"
     ]
    }
   ],
   "source": [
    "# первая строка\n",
    "print(my_2d_array2[1]) # Выведем на экран первую строку\n",
    "print(my_2d_array2[-1]) # Выведем на экран последнюю строку"
   ]
  },
  {
   "cell_type": "markdown",
   "metadata": {
    "id": "pueCxTgkzkpu"
   },
   "source": [
    "поэлементно"
   ]
  },
  {
   "cell_type": "code",
   "execution_count": 89,
   "metadata": {
    "colab": {
     "base_uri": "https://localhost:8080/",
     "height": 68
    },
    "id": "7J_njk56zkpv",
    "outputId": "8fd13c32-abdc-44ba-cc33-ec42c1f9ce75"
   },
   "outputs": [
    {
     "name": "stdout",
     "output_type": "stream",
     "text": [
      "[[3 6 2 7]\n",
      " [9 2 4 8]\n",
      " [8 2 3 6]]\n"
     ]
    }
   ],
   "source": [
    "print(my_2d_array2) # Выведем на экран массив my_2d_array2"
   ]
  },
  {
   "cell_type": "code",
   "execution_count": 90,
   "metadata": {
    "colab": {
     "base_uri": "https://localhost:8080/",
     "height": 34
    },
    "id": "vqJjLvxszkqE",
    "outputId": "dd08055d-db72-4bf5-c8a4-7c79794030cf"
   },
   "outputs": [
    {
     "name": "stdout",
     "output_type": "stream",
     "text": [
      "3\n"
     ]
    }
   ],
   "source": [
    "print(my_2d_array2[0,0]) # Выведем на экран элемент с индексом [0,0] (нулевая строка, нулевой столбец)"
   ]
  },
  {
   "cell_type": "code",
   "execution_count": 91,
   "metadata": {
    "colab": {
     "base_uri": "https://localhost:8080/",
     "height": 34
    },
    "id": "N29vELmHzkqQ",
    "outputId": "9875830f-0ced-405b-ddad-1868fa08c5f5"
   },
   "outputs": [
    {
     "name": "stdout",
     "output_type": "stream",
     "text": [
      "6\n"
     ]
    }
   ],
   "source": [
    "print(my_2d_array2[0,1]) # Выведем на экран элемент с индексом [0,1] (нулевая строка, первый столбец)"
   ]
  },
  {
   "cell_type": "code",
   "execution_count": 92,
   "metadata": {
    "colab": {
     "base_uri": "https://localhost:8080/",
     "height": 34
    },
    "id": "my1ixcQxzkqd",
    "outputId": "ef1f4f35-969f-4d71-dc2a-6716fde1e434"
   },
   "outputs": [
    {
     "name": "stdout",
     "output_type": "stream",
     "text": [
      "4\n"
     ]
    }
   ],
   "source": [
    "print(my_2d_array2[1,2]) # Выведем на экран элемент с индексом [1,2] (первая строка, второй столбец)"
   ]
  },
  {
   "cell_type": "markdown",
   "metadata": {
    "id": "LBTMYwGyzkqn"
   },
   "source": [
    "по столбцам"
   ]
  },
  {
   "cell_type": "code",
   "execution_count": 93,
   "metadata": {
    "colab": {
     "base_uri": "https://localhost:8080/",
     "height": 34
    },
    "id": "JeYr_72Azkqr",
    "outputId": "0a851c43-c950-4502-f48b-7c68df3cde28"
   },
   "outputs": [
    {
     "name": "stdout",
     "output_type": "stream",
     "text": [
      "[3 9 8]\n"
     ]
    }
   ],
   "source": [
    "print(my_2d_array2[:, 0]) # Выведем на экран нулевой столбец"
   ]
  },
  {
   "cell_type": "code",
   "execution_count": 94,
   "metadata": {
    "colab": {
     "base_uri": "https://localhost:8080/",
     "height": 34
    },
    "id": "PmfkyXfazkrG",
    "outputId": "5f613e7c-6f24-4a1e-e551-1e4104c12c1d"
   },
   "outputs": [
    {
     "name": "stdout",
     "output_type": "stream",
     "text": [
      "[6 2 2]\n"
     ]
    }
   ],
   "source": [
    "print(my_2d_array2[:, 1]) # Выведем на экран первый столбец"
   ]
  },
  {
   "cell_type": "code",
   "execution_count": 95,
   "metadata": {
    "colab": {
     "base_uri": "https://localhost:8080/",
     "height": 34
    },
    "id": "QycmbmWGRnX1",
    "outputId": "7c721580-f412-4644-c954-82255c490a91"
   },
   "outputs": [
    {
     "name": "stdout",
     "output_type": "stream",
     "text": [
      "[2 2]\n"
     ]
    }
   ],
   "source": [
    "print(my_2d_array2[1:, 1]) # Выведем на экран первый столбец  и все элементы этого столбца, начиная с первого"
   ]
  },
  {
   "cell_type": "markdown",
   "metadata": {
    "id": "vhMf-XP7zkrT"
   },
   "source": [
    "#### Операции с двумерными массивами и встроенные методы\n",
    "\n",
    "\n"
   ]
  },
  {
   "cell_type": "code",
   "execution_count": 96,
   "metadata": {
    "colab": {
     "base_uri": "https://localhost:8080/",
     "height": 68
    },
    "id": "Dk2M6MkQzkrX",
    "outputId": "83f72835-84eb-44e6-de3f-f4ca7188bda3"
   },
   "outputs": [
    {
     "name": "stdout",
     "output_type": "stream",
     "text": [
      "[[3 6 2 7]\n",
      " [9 2 4 8]\n",
      " [8 2 3 6]]\n"
     ]
    }
   ],
   "source": [
    "    print(my_2d_array2) # Выведем на экран массив my_2d_array2"
   ]
  },
  {
   "cell_type": "code",
   "execution_count": 97,
   "metadata": {
    "colab": {
     "base_uri": "https://localhost:8080/",
     "height": 34
    },
    "id": "dh4D3i2_zkrg",
    "outputId": "dda11ce3-5c44-4ba7-ac06-fbb8ef7599c1"
   },
   "outputs": [
    {
     "name": "stdout",
     "output_type": "stream",
     "text": [
      "60\n"
     ]
    }
   ],
   "source": [
    "print(my_2d_array2.sum()) # Выводим сумму элементов двумерного массива"
   ]
  },
  {
   "cell_type": "code",
   "execution_count": 98,
   "metadata": {
    "colab": {
     "base_uri": "https://localhost:8080/",
     "height": 34
    },
    "id": "p3b6i3G-zkrv",
    "outputId": "36f9008b-8974-4e91-e491-bd3f86ae2005"
   },
   "outputs": [
    {
     "name": "stdout",
     "output_type": "stream",
     "text": [
      "[2 2 2]\n"
     ]
    }
   ],
   "source": [
    "print(my_2d_array2.min(axis=1)) # Выводим минимальный элемент в каждой строке"
   ]
  },
  {
   "cell_type": "code",
   "execution_count": 99,
   "metadata": {
    "colab": {
     "base_uri": "https://localhost:8080/",
     "height": 34
    },
    "id": "kWFJ2pPzzkr7",
    "outputId": "917568d2-e5a1-436b-b01b-b846adee70cf"
   },
   "outputs": [
    {
     "name": "stdout",
     "output_type": "stream",
     "text": [
      "[20 10  9 21]\n"
     ]
    }
   ],
   "source": [
    "print(my_2d_array2.sum(axis=0)) # Выводим сумму каждого столбеца"
   ]
  },
  {
   "cell_type": "code",
   "execution_count": 100,
   "metadata": {
    "colab": {
     "base_uri": "https://localhost:8080/",
     "height": 68
    },
    "id": "V66Mj_qizksR",
    "outputId": "51749f06-6837-40ee-ecaf-e992f271b12a"
   },
   "outputs": [
    {
     "name": "stdout",
     "output_type": "stream",
     "text": [
      "[[1 1 1 1]\n",
      " [1 1 1 1]\n",
      " [1 1 1 1]]\n"
     ]
    }
   ],
   "source": [
    "# np.ones_like создает массив из единиц такой же размерности как и массив а\n",
    "new_2d_array = np.ones_like(my_2d_array2) # Создаем массив той же размерности, что и my_2d_array2 и заполняем его единицами\n",
    "print(new_2d_array) # Выводим на экран массив new_2d_кarray"
   ]
  },
  {
   "cell_type": "code",
   "execution_count": 101,
   "metadata": {
    "colab": {
     "base_uri": "https://localhost:8080/",
     "height": 102
    },
    "id": "hv2Nt_92zksd",
    "outputId": "e183f651-dc79-4c64-e149-ec441053e616"
   },
   "outputs": [
    {
     "name": "stdout",
     "output_type": "stream",
     "text": [
      "[[0. 0. 0.]\n",
      " [0. 0. 0.]\n",
      " [0. 0. 0.]\n",
      " [0. 0. 0.]\n",
      " [0. 0. 0.]]\n"
     ]
    }
   ],
   "source": [
    "new_2d_array2 = np.zeros((5,3)) # Создаем массив из нулей заданной размерности (5,3)\n",
    "print (new_2d_array2) # Выводи на экран массив new_2d_array2"
   ]
  },
  {
   "cell_type": "code",
   "execution_count": 102,
   "metadata": {
    "colab": {
     "base_uri": "https://localhost:8080/",
     "height": 68
    },
    "id": "8Qri_oG4zksm",
    "outputId": "549ec67c-d5e8-4169-dd5c-da68e2e920d7"
   },
   "outputs": [
    {
     "name": "stdout",
     "output_type": "stream",
     "text": [
      "[[2 2 2 2]\n",
      " [2 2 2 2]\n",
      " [2 2 2 2]]\n"
     ]
    }
   ],
   "source": [
    "new_2d_array2 = new_2d_array * 2 # Умножим каждый элемент массива на 2\n",
    "print(new_2d_array2) # Выводим на экран массив new_2d_array2"
   ]
  },
  {
   "cell_type": "code",
   "execution_count": 103,
   "metadata": {
    "colab": {
     "base_uri": "https://localhost:8080/",
     "height": 68
    },
    "id": "sLjQNK5Mzksv",
    "outputId": "eff53a26-009e-4ae9-86ac-54bc9c1ee9dd"
   },
   "outputs": [
    {
     "name": "stdout",
     "output_type": "stream",
     "text": [
      "[[1 1 1 1]\n",
      " [1 1 1 1]\n",
      " [1 1 1 1]]\n"
     ]
    }
   ],
   "source": [
    "print(new_2d_array)"
   ]
  },
  {
   "cell_type": "code",
   "execution_count": 104,
   "metadata": {
    "colab": {
     "base_uri": "https://localhost:8080/",
     "height": 51
    },
    "id": "YbAtj3Ulzks_",
    "outputId": "aa158245-9dff-4c00-905e-2930465d6c45"
   },
   "outputs": [
    {
     "name": "stdout",
     "output_type": "stream",
     "text": [
      "[[ 4  6  6]\n",
      " [24 20 18]]\n"
     ]
    }
   ],
   "source": [
    "# поэлементное умножение двух массивов\n",
    "arr1 = np.array([[1,2,3],\n",
    "                 [4,5,6]])\n",
    "arr2 = np.array([[4,3,2],\n",
    "                 [6,4,3]])\n",
    "print(arr1 * arr2) # Выведем на экран результат поэлементого умножения массивов"
   ]
  },
  {
   "cell_type": "markdown",
   "metadata": {
    "id": "AxvH5kzazktL"
   },
   "source": [
    "#### Структура np.matrix\n",
    "\n",
    "\n",
    "Подробнее: https://docs.scipy.org/doc/numpy/reference/generated/numpy.matrix.html"
   ]
  },
  {
   "cell_type": "code",
   "execution_count": 105,
   "metadata": {
    "colab": {
     "base_uri": "https://localhost:8080/",
     "height": 85
    },
    "id": "eOVm5xM-zktO",
    "outputId": "cbef551b-f81d-44b2-daa8-455de52b8b66"
   },
   "outputs": [
    {
     "name": "stdout",
     "output_type": "stream",
     "text": [
      "[[1 2 3]\n",
      " [4 5 6]]\n",
      "<class 'numpy.ndarray'>\n",
      "<class 'numpy.matrix'>\n"
     ]
    }
   ],
   "source": [
    "my_matrix = np.matrix(arr1) # Создадим матрицу из массива arr1\n",
    "print(my_matrix) # Выведем на экран матрицу my_matrix\n",
    "print(type(arr1)) # Выведем на экран тип переменной arr1\n",
    "print(type(my_matrix)) # Выведем на экран тип переменной my_matrix"
   ]
  },
  {
   "cell_type": "code",
   "execution_count": 106,
   "metadata": {
    "colab": {
     "base_uri": "https://localhost:8080/",
     "height": 68
    },
    "id": "EcLPXc7X5_1i",
    "outputId": "f208cd42-7d6c-46b0-db8b-0b4a1bf8e0bf"
   },
   "outputs": [
    {
     "name": "stdout",
     "output_type": "stream",
     "text": [
      "[[1 4]\n",
      " [2 5]\n",
      " [3 6]]\n"
     ]
    }
   ],
   "source": [
    "print(my_matrix.T) # Выведем на экран транспонированную матрицу"
   ]
  },
  {
   "cell_type": "code",
   "execution_count": 107,
   "metadata": {
    "colab": {
     "base_uri": "https://localhost:8080/",
     "height": 51
    },
    "id": "5XpKMQAyzkta",
    "outputId": "d23c6534-5f66-404e-ab3a-e37b80af8b6c"
   },
   "outputs": [
    {
     "name": "stdout",
     "output_type": "stream",
     "text": [
      "[[14 32]\n",
      " [32 77]]\n"
     ]
    }
   ],
   "source": [
    "# в случае с np.matrix выполняется матричное умножение, а не поэлементное (!!!)\n",
    "print(my_matrix * my_matrix.T)\n"
   ]
  },
  {
   "cell_type": "markdown",
   "metadata": {
    "id": "VgtDImiPzktu"
   },
   "source": [
    "#### Тензоры \n",
    "\n"
   ]
  },
  {
   "cell_type": "code",
   "execution_count": 108,
   "metadata": {
    "colab": {
     "base_uri": "https://localhost:8080/",
     "height": 527
    },
    "id": "4o-OcMOIzktz",
    "outputId": "e9d57bb2-8a8a-46eb-f04e-295e58a3a5f2"
   },
   "outputs": [
    {
     "name": "stdout",
     "output_type": "stream",
     "text": [
      "[[[[0.90164649 0.4999424  0.59482474 0.22401007 0.8072517 ]\n",
      "   [0.07636958 0.93754102 0.60478191 0.59774864 0.90960937]\n",
      "   [0.4632273  0.26123155 0.462418   0.3362733  0.53614597]\n",
      "   [0.98798396 0.42844529 0.07946982 0.48087871 0.8109102 ]]\n",
      "\n",
      "  [[0.80787863 0.06711415 0.74531173 0.57343473 0.44147693]\n",
      "   [0.42629217 0.52202672 0.5688396  0.20887739 0.07240551]\n",
      "   [0.66633701 0.96933531 0.8412048  0.12713567 0.34198681]\n",
      "   [0.99991858 0.09227155 0.04395908 0.17235076 0.38123556]]\n",
      "\n",
      "  [[0.49198013 0.50752366 0.15303152 0.72415228 0.94860734]\n",
      "   [0.7006949  0.50088065 0.93496453 0.34405827 0.40456199]\n",
      "   [0.84289353 0.00225234 0.15804094 0.54791706 0.67724936]\n",
      "   [0.96316695 0.54132901 0.87519794 0.2913653  0.40914185]]]\n",
      "\n",
      "\n",
      " [[[0.39299396 0.59951572 0.82845583 0.52369149 0.1410601 ]\n",
      "   [0.88165515 0.61863362 0.25016165 0.78871098 0.33698608]\n",
      "   [0.26559871 0.04722685 0.37916419 0.45823972 0.39539978]\n",
      "   [0.89201394 0.18286427 0.99807669 0.69749937 0.75737332]]\n",
      "\n",
      "  [[0.15363137 0.88177004 0.42267836 0.13522773 0.91930298]\n",
      "   [0.39589241 0.55488754 0.88088306 0.02448683 0.99301472]\n",
      "   [0.44944586 0.95890423 0.95711683 0.28556032 0.78898311]\n",
      "   [0.96752879 0.86374175 0.97723304 0.88696901 0.04940123]]\n",
      "\n",
      "  [[0.73876297 0.54644027 0.89344516 0.49879753 0.73353649]\n",
      "   [0.56626821 0.02674192 0.14158254 0.37190592 0.61839176]\n",
      "   [0.29445168 0.35557877 0.15074845 0.91315637 0.97699227]\n",
      "   [0.59173042 0.48325593 0.87713087 0.98994952 0.14631434]]]]\n"
     ]
    }
   ],
   "source": [
    "# создаем четыркхмерный массив из случайных значений размерности 2 на 3 на 4 на 5\n",
    "my_tensor = np.random.random((2, 3, 4, 5))\n",
    "print(my_tensor)"
   ]
  },
  {
   "cell_type": "code",
   "execution_count": 109,
   "metadata": {
    "colab": {
     "base_uri": "https://localhost:8080/",
     "height": 34
    },
    "id": "7P4LXHmjzkuS",
    "outputId": "415c274b-02ef-47dd-88c8-58e5408006bb"
   },
   "outputs": [
    {
     "name": "stdout",
     "output_type": "stream",
     "text": [
      "(2, 3, 4, 5)\n"
     ]
    }
   ],
   "source": [
    "# проверяем размерность\n",
    "print(my_tensor.shape) # Выводим на экран размерность массива my_tensor"
   ]
  },
  {
   "cell_type": "markdown",
   "metadata": {
    "id": "N-tfxwVHzkug"
   },
   "source": [
    "Как поэлементно обращаться к тензорам?"
   ]
  },
  {
   "cell_type": "code",
   "execution_count": 110,
   "metadata": {
    "colab": {
     "base_uri": "https://localhost:8080/",
     "height": 34
    },
    "id": "uPFr6zQgzkul",
    "outputId": "b48532ac-3016-4bbc-e95a-67edfff699b2"
   },
   "outputs": [
    {
     "data": {
      "text/plain": [
       "0.9016464925872826"
      ]
     },
     "execution_count": 110,
     "metadata": {},
     "output_type": "execute_result"
    }
   ],
   "source": [
    "# элемент с индексами 0 по всем осям\n",
    "my_tensor[0, 0, 0, 0]"
   ]
  },
  {
   "cell_type": "code",
   "execution_count": 111,
   "metadata": {
    "colab": {
     "base_uri": "https://localhost:8080/",
     "height": 136
    },
    "id": "PNG7g7z6zkux",
    "outputId": "4e1ccd5f-bbcd-4700-d308-ad34c1d9aab3"
   },
   "outputs": [
    {
     "data": {
      "text/plain": [
       "array([[[0.90164649, 0.07636958, 0.4632273 , 0.98798396],\n",
       "        [0.80787863, 0.42629217, 0.66633701, 0.99991858],\n",
       "        [0.49198013, 0.7006949 , 0.84289353, 0.96316695]],\n",
       "\n",
       "       [[0.39299396, 0.88165515, 0.26559871, 0.89201394],\n",
       "        [0.15363137, 0.39589241, 0.44944586, 0.96752879],\n",
       "        [0.73876297, 0.56626821, 0.29445168, 0.59173042]]])"
      ]
     },
     "execution_count": 111,
     "metadata": {},
     "output_type": "execute_result"
    }
   ],
   "source": [
    "# только первые строки\n",
    "my_tensor[:,  :, :, 0]"
   ]
  },
  {
   "cell_type": "code",
   "execution_count": 112,
   "metadata": {
    "colab": {
     "base_uri": "https://localhost:8080/",
     "height": 136
    },
    "id": "pZPs0QzyzkvG",
    "outputId": "328de617-256d-40d8-a2a3-90f7249ab825"
   },
   "outputs": [
    {
     "data": {
      "text/plain": [
       "array([[[3.02767541, 3.12605053, 2.05929613, 2.78768799],\n",
       "        [2.63521617, 1.79844139, 2.9459996 , 1.68973553],\n",
       "        [2.82529492, 2.88516034, 2.22835324, 3.08020105]],\n",
       "\n",
       "       [[2.4857171 , 2.87614747, 1.54562923, 3.52782759],\n",
       "        [2.51261049, 2.84916456, 3.44001035, 3.74487381],\n",
       "        [3.41098242, 1.72489034, 2.69092755, 3.08838108]]])"
      ]
     },
     "execution_count": 112,
     "metadata": {},
     "output_type": "execute_result"
    }
   ],
   "source": [
    "# сумма элементов по второй оси\n",
    "my_tensor.sum(axis=3)"
   ]
  },
  {
   "cell_type": "markdown",
   "metadata": {
    "id": "AjtoLgd-zkvT"
   },
   "source": [
    "### 5. Матричные операции\n"
   ]
  },
  {
   "cell_type": "markdown",
   "metadata": {
    "id": "VGAqmU0mzkvx"
   },
   "source": [
    "Умножение двух матриц\n",
    "\n",
    "метод .dot"
   ]
  },
  {
   "cell_type": "code",
   "execution_count": 113,
   "metadata": {
    "colab": {
     "base_uri": "https://localhost:8080/",
     "height": 51
    },
    "id": "tF0ZLfO8zkv1",
    "outputId": "7961a343-07d2-4c6d-eef7-d9c96c5a2e4d"
   },
   "outputs": [
    {
     "name": "stdout",
     "output_type": "stream",
     "text": [
      "[[1 2 3]\n",
      " [4 5 6]]\n"
     ]
    }
   ],
   "source": [
    "    print(arr1)"
   ]
  },
  {
   "cell_type": "code",
   "execution_count": 114,
   "metadata": {
    "colab": {
     "base_uri": "https://localhost:8080/",
     "height": 51
    },
    "id": "2fybvch-zkwB",
    "outputId": "52462a43-c32c-47df-ae12-909d6d9d0c3f"
   },
   "outputs": [
    {
     "name": "stdout",
     "output_type": "stream",
     "text": [
      "[[4 3 2]\n",
      " [6 4 3]]\n"
     ]
    }
   ],
   "source": [
    "print(arr2)"
   ]
  },
  {
   "cell_type": "code",
   "execution_count": 115,
   "metadata": {
    "colab": {
     "base_uri": "https://localhost:8080/",
     "height": 51
    },
    "id": "SLUsk1z0zkwK",
    "outputId": "5b7609c8-5e1c-4e12-8ee2-1364580adaf5"
   },
   "outputs": [
    {
     "data": {
      "text/plain": [
       "array([[ 4,  6,  6],\n",
       "       [24, 20, 18]])"
      ]
     },
     "execution_count": 115,
     "metadata": {},
     "output_type": "execute_result"
    }
   ],
   "source": [
    "# это не умножение(!!!)\n",
    "## это поэлементное умножение\n",
    "arr1 * arr2"
   ]
  },
  {
   "cell_type": "code",
   "execution_count": 116,
   "metadata": {
    "colab": {
     "base_uri": "https://localhost:8080/",
     "height": 68
    },
    "id": "qR1N3UF_zkwX",
    "outputId": "34c92e5a-76f2-474e-c7dd-b623a4359d54"
   },
   "outputs": [
    {
     "name": "stdout",
     "output_type": "stream",
     "text": [
      "[[28 19 14]\n",
      " [38 26 19]\n",
      " [48 33 24]]\n"
     ]
    }
   ],
   "source": [
    "# вот это умножение:\n",
    "## метод .dot\n",
    "arrT = arr1.T\n",
    "arr3 = arrT.dot(arr2)\n",
    "print(arr3)"
   ]
  },
  {
   "cell_type": "markdown",
   "metadata": {
    "id": "Y2_Fa3GLzkwu"
   },
   "source": [
    "### 6. Семплирование из распределений\n",
    "\n"
   ]
  },
  {
   "cell_type": "markdown",
   "metadata": {
    "id": "-YeINmX7zkwx"
   },
   "source": [
    "Описание всех возможностей модуля np.random:\n",
    "\n",
    "https://docs.scipy.org/doc/numpy-1.15.0/reference/routines.random.html\n"
   ]
  },
  {
   "cell_type": "code",
   "execution_count": 117,
   "metadata": {
    "colab": {
     "base_uri": "https://localhost:8080/",
     "height": 102
    },
    "id": "fIL1gWXVzkwz",
    "outputId": "90ac2509-9ddd-40d6-fe14-e0e42e63b280"
   },
   "outputs": [
    {
     "name": "stdout",
     "output_type": "stream",
     "text": [
      "[[ 0.35729408  0.2731621  -0.58064499  0.40395534  0.14022823]\n",
      " [ 0.28253153  0.31138664 -0.85579179 -1.52897622  0.69014451]\n",
      " [-0.77618906  1.25105753 -1.12627861  1.76181978  2.87215685]\n",
      " [ 0.4873332   1.06261447 -0.8500319  -0.51453341 -0.01978035]\n",
      " [-0.81952552  1.59457961 -1.46780327 -0.30988788 -0.90431785]]\n"
     ]
    }
   ],
   "source": [
    "# создаем массив размера 5 на 5 со случайными числами из стандартного нормального распределения\n",
    "rr = np.random.normal(0, 1, (5,5))\n",
    "print(rr)"
   ]
  },
  {
   "cell_type": "code",
   "execution_count": 118,
   "metadata": {
    "colab": {
     "base_uri": "https://localhost:8080/",
     "height": 102
    },
    "id": "iEWNRPh-zkw6",
    "outputId": "c0f598f5-d550-42e7-9fa3-59b254752e96"
   },
   "outputs": [
    {
     "name": "stdout",
     "output_type": "stream",
     "text": [
      "[[6 8 0 5 1]\n",
      " [5 2 4 1 0]\n",
      " [9 6 5 2 2]\n",
      " [0 1 1 4 4]\n",
      " [3 4 5 9 3]]\n"
     ]
    }
   ],
   "source": [
    "rr = np.random.randint(0, 10, (5,5))\n",
    "print(rr)"
   ]
  },
  {
   "cell_type": "code",
   "execution_count": 119,
   "metadata": {
    "colab": {
     "base_uri": "https://localhost:8080/",
     "height": 85
    },
    "id": "PVLjpyGmDJyu",
    "outputId": "3f24124d-13d8-4095-eb73-83e504279382"
   },
   "outputs": [
    {
     "name": "stdout",
     "output_type": "stream",
     "text": [
      "[[ 1.9527231  -4.24965846 -1.54503775  1.6131322 ]\n",
      " [ 0.9568285  -4.01421654 -2.23429534 -2.67795927]\n",
      " [ 1.42876684 -3.24120113 -2.20986728 -2.89583432]\n",
      " [-2.2935349  -1.23453219  0.48343221  0.66407898]]\n"
     ]
    }
   ],
   "source": [
    "rr = np.random.uniform(-4.33, 2.35, (4,4))\n",
    "print(rr)"
   ]
  },
  {
   "cell_type": "markdown",
   "metadata": {
    "id": "ryzPlVHlzkxA"
   },
   "source": [
    "### 7. Чтение файлов\n"
   ]
  },
  {
   "cell_type": "code",
   "execution_count": null,
   "metadata": {
    "colab": {
     "base_uri": "https://localhost:8080/",
     "height": 34
    },
    "id": "SLXOnJJqlIQY",
    "outputId": "cf4c892a-20bf-4222-d7d5-918119ee3e3a"
   },
   "outputs": [],
   "source": [
    "    #from google.colab import drive\n",
    "#drive.mount('/content/drive')"
   ]
  },
  {
   "cell_type": "code",
   "execution_count": 122,
   "metadata": {
    "id": "hNzYcuhtzkxE"
   },
   "outputs": [],
   "source": [
    "# грузим массив из файла .csv\n",
    "my_data = np.loadtxt('iris.csv', delimiter=',', skiprows=1) # skiprows=1 - пропускаем первую строку, поскольку в ней названия колонок базы "
   ]
  },
  {
   "cell_type": "code",
   "execution_count": 123,
   "metadata": {
    "colab": {
     "base_uri": "https://localhost:8080/",
     "height": 1000
    },
    "id": "Y5O-OcQbzkxS",
    "outputId": "8ad00821-84a4-4659-c58d-ae22bc0f0bc8"
   },
   "outputs": [
    {
     "name": "stdout",
     "output_type": "stream",
     "text": [
      "[[0.00e+00 5.10e+00 3.50e+00 1.40e+00 2.00e-01]\n",
      " [1.00e+00 4.90e+00 3.00e+00 1.40e+00 2.00e-01]\n",
      " [2.00e+00 4.70e+00 3.20e+00 1.30e+00 2.00e-01]\n",
      " [3.00e+00 4.60e+00 3.10e+00 1.50e+00 2.00e-01]\n",
      " [4.00e+00 5.00e+00 3.60e+00 1.40e+00 2.00e-01]\n",
      " [5.00e+00 5.40e+00 3.90e+00 1.70e+00 4.00e-01]\n",
      " [6.00e+00 4.60e+00 3.40e+00 1.40e+00 3.00e-01]\n",
      " [7.00e+00 5.00e+00 3.40e+00 1.50e+00 2.00e-01]\n",
      " [8.00e+00 4.40e+00 2.90e+00 1.40e+00 2.00e-01]\n",
      " [9.00e+00 4.90e+00 3.10e+00 1.50e+00 1.00e-01]\n",
      " [1.00e+01 5.40e+00 3.70e+00 1.50e+00 2.00e-01]\n",
      " [1.10e+01 4.80e+00 3.40e+00 1.60e+00 2.00e-01]\n",
      " [1.20e+01 4.80e+00 3.00e+00 1.40e+00 1.00e-01]\n",
      " [1.30e+01 4.30e+00 3.00e+00 1.10e+00 1.00e-01]\n",
      " [1.40e+01 5.80e+00 4.00e+00 1.20e+00 2.00e-01]\n",
      " [1.50e+01 5.70e+00 4.40e+00 1.50e+00 4.00e-01]\n",
      " [1.60e+01 5.40e+00 3.90e+00 1.30e+00 4.00e-01]\n",
      " [1.70e+01 5.10e+00 3.50e+00 1.40e+00 3.00e-01]\n",
      " [1.80e+01 5.70e+00 3.80e+00 1.70e+00 3.00e-01]\n",
      " [1.90e+01 5.10e+00 3.80e+00 1.50e+00 3.00e-01]\n",
      " [2.00e+01 5.40e+00 3.40e+00 1.70e+00 2.00e-01]\n",
      " [2.10e+01 5.10e+00 3.70e+00 1.50e+00 4.00e-01]\n",
      " [2.20e+01 4.60e+00 3.60e+00 1.00e+00 2.00e-01]\n",
      " [2.30e+01 5.10e+00 3.30e+00 1.70e+00 5.00e-01]\n",
      " [2.40e+01 4.80e+00 3.40e+00 1.90e+00 2.00e-01]\n",
      " [2.50e+01 5.00e+00 3.00e+00 1.60e+00 2.00e-01]\n",
      " [2.60e+01 5.00e+00 3.40e+00 1.60e+00 4.00e-01]\n",
      " [2.70e+01 5.20e+00 3.50e+00 1.50e+00 2.00e-01]\n",
      " [2.80e+01 5.20e+00 3.40e+00 1.40e+00 2.00e-01]\n",
      " [2.90e+01 4.70e+00 3.20e+00 1.60e+00 2.00e-01]\n",
      " [3.00e+01 4.80e+00 3.10e+00 1.60e+00 2.00e-01]\n",
      " [3.10e+01 5.40e+00 3.40e+00 1.50e+00 4.00e-01]\n",
      " [3.20e+01 5.20e+00 4.10e+00 1.50e+00 1.00e-01]\n",
      " [3.30e+01 5.50e+00 4.20e+00 1.40e+00 2.00e-01]\n",
      " [3.40e+01 4.90e+00 3.10e+00 1.50e+00 2.00e-01]\n",
      " [3.50e+01 5.00e+00 3.20e+00 1.20e+00 2.00e-01]\n",
      " [3.60e+01 5.50e+00 3.50e+00 1.30e+00 2.00e-01]\n",
      " [3.70e+01 4.90e+00 3.60e+00 1.40e+00 1.00e-01]\n",
      " [3.80e+01 4.40e+00 3.00e+00 1.30e+00 2.00e-01]\n",
      " [3.90e+01 5.10e+00 3.40e+00 1.50e+00 2.00e-01]\n",
      " [4.00e+01 5.00e+00 3.50e+00 1.30e+00 3.00e-01]\n",
      " [4.10e+01 4.50e+00 2.30e+00 1.30e+00 3.00e-01]\n",
      " [4.20e+01 4.40e+00 3.20e+00 1.30e+00 2.00e-01]\n",
      " [4.30e+01 5.00e+00 3.50e+00 1.60e+00 6.00e-01]\n",
      " [4.40e+01 5.10e+00 3.80e+00 1.90e+00 4.00e-01]\n",
      " [4.50e+01 4.80e+00 3.00e+00 1.40e+00 3.00e-01]\n",
      " [4.60e+01 5.10e+00 3.80e+00 1.60e+00 2.00e-01]\n",
      " [4.70e+01 4.60e+00 3.20e+00 1.40e+00 2.00e-01]\n",
      " [4.80e+01 5.30e+00 3.70e+00 1.50e+00 2.00e-01]\n",
      " [4.90e+01 5.00e+00 3.30e+00 1.40e+00 2.00e-01]\n",
      " [5.00e+01 7.00e+00 3.20e+00 4.70e+00 1.40e+00]\n",
      " [5.10e+01 6.40e+00 3.20e+00 4.50e+00 1.50e+00]\n",
      " [5.20e+01 6.90e+00 3.10e+00 4.90e+00 1.50e+00]\n",
      " [5.30e+01 5.50e+00 2.30e+00 4.00e+00 1.30e+00]\n",
      " [5.40e+01 6.50e+00 2.80e+00 4.60e+00 1.50e+00]\n",
      " [5.50e+01 5.70e+00 2.80e+00 4.50e+00 1.30e+00]\n",
      " [5.60e+01 6.30e+00 3.30e+00 4.70e+00 1.60e+00]\n",
      " [5.70e+01 4.90e+00 2.40e+00 3.30e+00 1.00e+00]\n",
      " [5.80e+01 6.60e+00 2.90e+00 4.60e+00 1.30e+00]\n",
      " [5.90e+01 5.20e+00 2.70e+00 3.90e+00 1.40e+00]\n",
      " [6.00e+01 5.00e+00 2.00e+00 3.50e+00 1.00e+00]\n",
      " [6.10e+01 5.90e+00 3.00e+00 4.20e+00 1.50e+00]\n",
      " [6.20e+01 6.00e+00 2.20e+00 4.00e+00 1.00e+00]\n",
      " [6.30e+01 6.10e+00 2.90e+00 4.70e+00 1.40e+00]\n",
      " [6.40e+01 5.60e+00 2.90e+00 3.60e+00 1.30e+00]\n",
      " [6.50e+01 6.70e+00 3.10e+00 4.40e+00 1.40e+00]\n",
      " [6.60e+01 5.60e+00 3.00e+00 4.50e+00 1.50e+00]\n",
      " [6.70e+01 5.80e+00 2.70e+00 4.10e+00 1.00e+00]\n",
      " [6.80e+01 6.20e+00 2.20e+00 4.50e+00 1.50e+00]\n",
      " [6.90e+01 5.60e+00 2.50e+00 3.90e+00 1.10e+00]\n",
      " [7.00e+01 5.90e+00 3.20e+00 4.80e+00 1.80e+00]\n",
      " [7.10e+01 6.10e+00 2.80e+00 4.00e+00 1.30e+00]\n",
      " [7.20e+01 6.30e+00 2.50e+00 4.90e+00 1.50e+00]\n",
      " [7.30e+01 6.10e+00 2.80e+00 4.70e+00 1.20e+00]\n",
      " [7.40e+01 6.40e+00 2.90e+00 4.30e+00 1.30e+00]\n",
      " [7.50e+01 6.60e+00 3.00e+00 4.40e+00 1.40e+00]\n",
      " [7.60e+01 6.80e+00 2.80e+00 4.80e+00 1.40e+00]\n",
      " [7.70e+01 6.70e+00 3.00e+00 5.00e+00 1.70e+00]\n",
      " [7.80e+01 6.00e+00 2.90e+00 4.50e+00 1.50e+00]\n",
      " [7.90e+01 5.70e+00 2.60e+00 3.50e+00 1.00e+00]\n",
      " [8.00e+01 5.50e+00 2.40e+00 3.80e+00 1.10e+00]\n",
      " [8.10e+01 5.50e+00 2.40e+00 3.70e+00 1.00e+00]\n",
      " [8.20e+01 5.80e+00 2.70e+00 3.90e+00 1.20e+00]\n",
      " [8.30e+01 6.00e+00 2.70e+00 5.10e+00 1.60e+00]\n",
      " [8.40e+01 5.40e+00 3.00e+00 4.50e+00 1.50e+00]\n",
      " [8.50e+01 6.00e+00 3.40e+00 4.50e+00 1.60e+00]\n",
      " [8.60e+01 6.70e+00 3.10e+00 4.70e+00 1.50e+00]\n",
      " [8.70e+01 6.30e+00 2.30e+00 4.40e+00 1.30e+00]\n",
      " [8.80e+01 5.60e+00 3.00e+00 4.10e+00 1.30e+00]\n",
      " [8.90e+01 5.50e+00 2.50e+00 4.00e+00 1.30e+00]\n",
      " [9.00e+01 5.50e+00 2.60e+00 4.40e+00 1.20e+00]\n",
      " [9.10e+01 6.10e+00 3.00e+00 4.60e+00 1.40e+00]\n",
      " [9.20e+01 5.80e+00 2.60e+00 4.00e+00 1.20e+00]\n",
      " [9.30e+01 5.00e+00 2.30e+00 3.30e+00 1.00e+00]\n",
      " [9.40e+01 5.60e+00 2.70e+00 4.20e+00 1.30e+00]\n",
      " [9.50e+01 5.70e+00 3.00e+00 4.20e+00 1.20e+00]\n",
      " [9.60e+01 5.70e+00 2.90e+00 4.20e+00 1.30e+00]\n",
      " [9.70e+01 6.20e+00 2.90e+00 4.30e+00 1.30e+00]\n",
      " [9.80e+01 5.10e+00 2.50e+00 3.00e+00 1.10e+00]\n",
      " [9.90e+01 5.70e+00 2.80e+00 4.10e+00 1.30e+00]\n",
      " [1.00e+02 6.30e+00 3.30e+00 6.00e+00 2.50e+00]\n",
      " [1.01e+02 5.80e+00 2.70e+00 5.10e+00 1.90e+00]\n",
      " [1.02e+02 7.10e+00 3.00e+00 5.90e+00 2.10e+00]\n",
      " [1.03e+02 6.30e+00 2.90e+00 5.60e+00 1.80e+00]\n",
      " [1.04e+02 6.50e+00 3.00e+00 5.80e+00 2.20e+00]\n",
      " [1.05e+02 7.60e+00 3.00e+00 6.60e+00 2.10e+00]\n",
      " [1.06e+02 4.90e+00 2.50e+00 4.50e+00 1.70e+00]\n",
      " [1.07e+02 7.30e+00 2.90e+00 6.30e+00 1.80e+00]\n",
      " [1.08e+02 6.70e+00 2.50e+00 5.80e+00 1.80e+00]\n",
      " [1.09e+02 7.20e+00 3.60e+00 6.10e+00 2.50e+00]\n",
      " [1.10e+02 6.50e+00 3.20e+00 5.10e+00 2.00e+00]\n",
      " [1.11e+02 6.40e+00 2.70e+00 5.30e+00 1.90e+00]\n",
      " [1.12e+02 6.80e+00 3.00e+00 5.50e+00 2.10e+00]\n",
      " [1.13e+02 5.70e+00 2.50e+00 5.00e+00 2.00e+00]\n",
      " [1.14e+02 5.80e+00 2.80e+00 5.10e+00 2.40e+00]\n",
      " [1.15e+02 6.40e+00 3.20e+00 5.30e+00 2.30e+00]\n",
      " [1.16e+02 6.50e+00 3.00e+00 5.50e+00 1.80e+00]\n",
      " [1.17e+02 7.70e+00 3.80e+00 6.70e+00 2.20e+00]\n",
      " [1.18e+02 7.70e+00 2.60e+00 6.90e+00 2.30e+00]\n",
      " [1.19e+02 6.00e+00 2.20e+00 5.00e+00 1.50e+00]\n",
      " [1.20e+02 6.90e+00 3.20e+00 5.70e+00 2.30e+00]\n",
      " [1.21e+02 5.60e+00 2.80e+00 4.90e+00 2.00e+00]\n",
      " [1.22e+02 7.70e+00 2.80e+00 6.70e+00 2.00e+00]\n",
      " [1.23e+02 6.30e+00 2.70e+00 4.90e+00 1.80e+00]\n",
      " [1.24e+02 6.70e+00 3.30e+00 5.70e+00 2.10e+00]\n",
      " [1.25e+02 7.20e+00 3.20e+00 6.00e+00 1.80e+00]\n",
      " [1.26e+02 6.20e+00 2.80e+00 4.80e+00 1.80e+00]\n",
      " [1.27e+02 6.10e+00 3.00e+00 4.90e+00 1.80e+00]\n",
      " [1.28e+02 6.40e+00 2.80e+00 5.60e+00 2.10e+00]\n",
      " [1.29e+02 7.20e+00 3.00e+00 5.80e+00 1.60e+00]\n",
      " [1.30e+02 7.40e+00 2.80e+00 6.10e+00 1.90e+00]\n",
      " [1.31e+02 7.90e+00 3.80e+00 6.40e+00 2.00e+00]\n",
      " [1.32e+02 6.40e+00 2.80e+00 5.60e+00 2.20e+00]\n",
      " [1.33e+02 6.30e+00 2.80e+00 5.10e+00 1.50e+00]\n",
      " [1.34e+02 6.10e+00 2.60e+00 5.60e+00 1.40e+00]\n",
      " [1.35e+02 7.70e+00 3.00e+00 6.10e+00 2.30e+00]\n",
      " [1.36e+02 6.30e+00 3.40e+00 5.60e+00 2.40e+00]\n",
      " [1.37e+02 6.40e+00 3.10e+00 5.50e+00 1.80e+00]\n",
      " [1.38e+02 6.00e+00 3.00e+00 4.80e+00 1.80e+00]\n",
      " [1.39e+02 6.90e+00 3.10e+00 5.40e+00 2.10e+00]\n",
      " [1.40e+02 6.70e+00 3.10e+00 5.60e+00 2.40e+00]\n",
      " [1.41e+02 6.90e+00 3.10e+00 5.10e+00 2.30e+00]\n",
      " [1.42e+02 5.80e+00 2.70e+00 5.10e+00 1.90e+00]\n",
      " [1.43e+02 6.80e+00 3.20e+00 5.90e+00 2.30e+00]\n",
      " [1.44e+02 6.70e+00 3.30e+00 5.70e+00 2.50e+00]\n",
      " [1.45e+02 6.70e+00 3.00e+00 5.20e+00 2.30e+00]\n",
      " [1.46e+02 6.30e+00 2.50e+00 5.00e+00 1.90e+00]\n",
      " [1.47e+02 6.50e+00 3.00e+00 5.20e+00 2.00e+00]\n",
      " [1.48e+02 6.20e+00 3.40e+00 5.40e+00 2.30e+00]\n",
      " [1.49e+02 5.90e+00 3.00e+00 5.10e+00 1.80e+00]]\n"
     ]
    }
   ],
   "source": [
    "# вот то, что мы подгрузили\n",
    "print(my_data)"
   ]
  },
  {
   "cell_type": "code",
   "execution_count": 124,
   "metadata": {
    "colab": {
     "base_uri": "https://localhost:8080/",
     "height": 34
    },
    "id": "4LmMitE1zkxe",
    "outputId": "7351c3ba-441a-4a41-d76e-d9c1dd07ecda"
   },
   "outputs": [
    {
     "data": {
      "text/plain": [
       "numpy.ndarray"
      ]
     },
     "execution_count": 124,
     "metadata": {},
     "output_type": "execute_result"
    }
   ],
   "source": [
    "# массив имеет тип np.array сразу\n",
    "type(my_data)"
   ]
  },
  {
   "cell_type": "code",
   "execution_count": 125,
   "metadata": {
    "colab": {
     "base_uri": "https://localhost:8080/",
     "height": 34
    },
    "id": "CPyIiZ8bzkxn",
    "outputId": "476d29d9-62c7-4df6-da46-90f629f81f29"
   },
   "outputs": [
    {
     "data": {
      "text/plain": [
       "dtype('float64')"
      ]
     },
     "execution_count": 125,
     "metadata": {},
     "output_type": "execute_result"
    }
   ],
   "source": [
    "# тип подгруженных данных - float64\n",
    "my_data.dtype"
   ]
  },
  {
   "cell_type": "code",
   "execution_count": 126,
   "metadata": {
    "colab": {
     "base_uri": "https://localhost:8080/",
     "height": 34
    },
    "id": "0s6rDAkz8ujZ",
    "outputId": "94389491-14bd-4497-ad9c-6449a62020d8"
   },
   "outputs": [
    {
     "data": {
      "text/plain": [
       "(150, 5)"
      ]
     },
     "execution_count": 126,
     "metadata": {},
     "output_type": "execute_result"
    }
   ],
   "source": [
    "my_data.shape"
   ]
  },
  {
   "cell_type": "markdown",
   "metadata": {
    "id": "dPl6bnPF1rBz"
   },
   "source": [
    "# **Глоссарий**\n",
    "array[n1:n2] - срез массива с элемента n1 по n2 (не включительно)\n",
    "\n",
    "-----------------------\n",
    "\n",
    "**Основные методы для ndarray **\n",
    "\n",
    ".dtype - узнать тип данных массива\n",
    "\n",
    ".shape - узнать размер массива\n",
    "\n",
    ".reshape((*новый размер*))  - поменять размер массива\n",
    "\n",
    ".sum() сумма всех элементов\n",
    "\n",
    ".mean() среднее всех элементов\n",
    "\n",
    ".min() минимальное значение массива\n",
    "\n",
    ".max() максимальное значение\n",
    "\n",
    ".prod() произведение всех элементов\n",
    "\n",
    "-------------------\n",
    "\n",
    "np.arange(n) - генерация массива со значениями от 0 до n (не включительно)\n",
    "\n",
    "np.loadtxt(адрес расположения файла+параметры загрузки)\n",
    "\n",
    "\n"
   ]
  }
 ],
 "metadata": {
  "colab": {
   "provenance": []
  },
  "kernelspec": {
   "display_name": "Python 3 (ipykernel)",
   "language": "python",
   "name": "python3"
  },
  "language_info": {
   "codemirror_mode": {
    "name": "ipython",
    "version": 3
   },
   "file_extension": ".py",
   "mimetype": "text/x-python",
   "name": "python",
   "nbconvert_exporter": "python",
   "pygments_lexer": "ipython3",
   "version": "3.10.9"
  }
 },
 "nbformat": 4,
 "nbformat_minor": 1
}
